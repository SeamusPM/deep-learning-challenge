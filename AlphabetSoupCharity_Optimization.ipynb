{
 "cells": [
  {
   "cell_type": "code",
   "execution_count": 125,
   "metadata": {
    "collapsed": true
   },
   "outputs": [],
   "source": [
    "import keras.layers\n",
    "# Import our dependencies\n",
    "from sklearn.model_selection import train_test_split\n",
    "from sklearn.preprocessing import StandardScaler, LabelEncoder\n",
    "import pandas as pd\n",
    "import tensorflow as tf\n",
    "from tensorflow import keras\n",
    "import pandas as pd\n",
    "import numpy as np"
   ]
  },
  {
   "cell_type": "code",
   "execution_count": 261,
   "outputs": [
    {
     "data": {
      "text/plain": "        EIN                                      NAME APPLICATION_TYPE  \\\n0  10520599              BLUE KNIGHTS MOTORCYCLE CLUB              T10   \n1  10531628    AMERICAN CHESAPEAKE CLUB CHARITABLE TR               T3   \n2  10547893        ST CLOUD PROFESSIONAL FIREFIGHTERS               T5   \n3  10553066            SOUTHSIDE ATHLETIC ASSOCIATION               T3   \n4  10556103  GENETIC RESEARCH INSTITUTE OF THE DESERT               T3   \n\n        AFFILIATION CLASSIFICATION      USE_CASE  ORGANIZATION  STATUS  \\\n0       Independent          C1000    ProductDev   Association       1   \n1       Independent          C2000  Preservation  Co-operative       1   \n2  CompanySponsored          C3000    ProductDev   Association       1   \n3  CompanySponsored          C2000  Preservation         Trust       1   \n4       Independent          C1000     Heathcare         Trust       1   \n\n      INCOME_AMT SPECIAL_CONSIDERATIONS  ASK_AMT  IS_SUCCESSFUL  \n0              0                      N     5000              1  \n1         1-9999                      N   108590              1  \n2              0                      N     5000              0  \n3    10000-24999                      N     6692              1  \n4  100000-499999                      N   142590              1  ",
      "text/html": "<div>\n<style scoped>\n    .dataframe tbody tr th:only-of-type {\n        vertical-align: middle;\n    }\n\n    .dataframe tbody tr th {\n        vertical-align: top;\n    }\n\n    .dataframe thead th {\n        text-align: right;\n    }\n</style>\n<table border=\"1\" class=\"dataframe\">\n  <thead>\n    <tr style=\"text-align: right;\">\n      <th></th>\n      <th>EIN</th>\n      <th>NAME</th>\n      <th>APPLICATION_TYPE</th>\n      <th>AFFILIATION</th>\n      <th>CLASSIFICATION</th>\n      <th>USE_CASE</th>\n      <th>ORGANIZATION</th>\n      <th>STATUS</th>\n      <th>INCOME_AMT</th>\n      <th>SPECIAL_CONSIDERATIONS</th>\n      <th>ASK_AMT</th>\n      <th>IS_SUCCESSFUL</th>\n    </tr>\n  </thead>\n  <tbody>\n    <tr>\n      <th>0</th>\n      <td>10520599</td>\n      <td>BLUE KNIGHTS MOTORCYCLE CLUB</td>\n      <td>T10</td>\n      <td>Independent</td>\n      <td>C1000</td>\n      <td>ProductDev</td>\n      <td>Association</td>\n      <td>1</td>\n      <td>0</td>\n      <td>N</td>\n      <td>5000</td>\n      <td>1</td>\n    </tr>\n    <tr>\n      <th>1</th>\n      <td>10531628</td>\n      <td>AMERICAN CHESAPEAKE CLUB CHARITABLE TR</td>\n      <td>T3</td>\n      <td>Independent</td>\n      <td>C2000</td>\n      <td>Preservation</td>\n      <td>Co-operative</td>\n      <td>1</td>\n      <td>1-9999</td>\n      <td>N</td>\n      <td>108590</td>\n      <td>1</td>\n    </tr>\n    <tr>\n      <th>2</th>\n      <td>10547893</td>\n      <td>ST CLOUD PROFESSIONAL FIREFIGHTERS</td>\n      <td>T5</td>\n      <td>CompanySponsored</td>\n      <td>C3000</td>\n      <td>ProductDev</td>\n      <td>Association</td>\n      <td>1</td>\n      <td>0</td>\n      <td>N</td>\n      <td>5000</td>\n      <td>0</td>\n    </tr>\n    <tr>\n      <th>3</th>\n      <td>10553066</td>\n      <td>SOUTHSIDE ATHLETIC ASSOCIATION</td>\n      <td>T3</td>\n      <td>CompanySponsored</td>\n      <td>C2000</td>\n      <td>Preservation</td>\n      <td>Trust</td>\n      <td>1</td>\n      <td>10000-24999</td>\n      <td>N</td>\n      <td>6692</td>\n      <td>1</td>\n    </tr>\n    <tr>\n      <th>4</th>\n      <td>10556103</td>\n      <td>GENETIC RESEARCH INSTITUTE OF THE DESERT</td>\n      <td>T3</td>\n      <td>Independent</td>\n      <td>C1000</td>\n      <td>Heathcare</td>\n      <td>Trust</td>\n      <td>1</td>\n      <td>100000-499999</td>\n      <td>N</td>\n      <td>142590</td>\n      <td>1</td>\n    </tr>\n  </tbody>\n</table>\n</div>"
     },
     "execution_count": 261,
     "metadata": {},
     "output_type": "execute_result"
    }
   ],
   "source": [
    "#  Import and read the charity_data.csv.\n",
    "application_df = pd.read_csv(\"..\\\\Starter_Code\\\\Resources\\\\charity_data.csv\")\n",
    "application_df.head()"
   ],
   "metadata": {
    "collapsed": false
   }
  },
  {
   "cell_type": "markdown",
   "source": [
    "# ATTEMPT 1"
   ],
   "metadata": {
    "collapsed": false
   }
  },
  {
   "cell_type": "code",
   "execution_count": 229,
   "outputs": [
    {
     "data": {
      "text/plain": "  APPLICATION_TYPE       AFFILIATION CLASSIFICATION      USE_CASE  \\\n0              T10       Independent          C1000    ProductDev   \n1               T3       Independent          C2000  Preservation   \n2               T5  CompanySponsored          C3000    ProductDev   \n3               T3  CompanySponsored          C2000  Preservation   \n4               T3       Independent          C1000     Heathcare   \n\n   ORGANIZATION  STATUS     INCOME_AMT SPECIAL_CONSIDERATIONS  \n0   Association       1              0                      N  \n1  Co-operative       1         1-9999                      N  \n2   Association       1              0                      N  \n3         Trust       1    10000-24999                      N  \n4         Trust       1  100000-499999                      N  ",
      "text/html": "<div>\n<style scoped>\n    .dataframe tbody tr th:only-of-type {\n        vertical-align: middle;\n    }\n\n    .dataframe tbody tr th {\n        vertical-align: top;\n    }\n\n    .dataframe thead th {\n        text-align: right;\n    }\n</style>\n<table border=\"1\" class=\"dataframe\">\n  <thead>\n    <tr style=\"text-align: right;\">\n      <th></th>\n      <th>APPLICATION_TYPE</th>\n      <th>AFFILIATION</th>\n      <th>CLASSIFICATION</th>\n      <th>USE_CASE</th>\n      <th>ORGANIZATION</th>\n      <th>STATUS</th>\n      <th>INCOME_AMT</th>\n      <th>SPECIAL_CONSIDERATIONS</th>\n    </tr>\n  </thead>\n  <tbody>\n    <tr>\n      <th>0</th>\n      <td>T10</td>\n      <td>Independent</td>\n      <td>C1000</td>\n      <td>ProductDev</td>\n      <td>Association</td>\n      <td>1</td>\n      <td>0</td>\n      <td>N</td>\n    </tr>\n    <tr>\n      <th>1</th>\n      <td>T3</td>\n      <td>Independent</td>\n      <td>C2000</td>\n      <td>Preservation</td>\n      <td>Co-operative</td>\n      <td>1</td>\n      <td>1-9999</td>\n      <td>N</td>\n    </tr>\n    <tr>\n      <th>2</th>\n      <td>T5</td>\n      <td>CompanySponsored</td>\n      <td>C3000</td>\n      <td>ProductDev</td>\n      <td>Association</td>\n      <td>1</td>\n      <td>0</td>\n      <td>N</td>\n    </tr>\n    <tr>\n      <th>3</th>\n      <td>T3</td>\n      <td>CompanySponsored</td>\n      <td>C2000</td>\n      <td>Preservation</td>\n      <td>Trust</td>\n      <td>1</td>\n      <td>10000-24999</td>\n      <td>N</td>\n    </tr>\n    <tr>\n      <th>4</th>\n      <td>T3</td>\n      <td>Independent</td>\n      <td>C1000</td>\n      <td>Heathcare</td>\n      <td>Trust</td>\n      <td>1</td>\n      <td>100000-499999</td>\n      <td>N</td>\n    </tr>\n  </tbody>\n</table>\n</div>"
     },
     "execution_count": 229,
     "metadata": {},
     "output_type": "execute_result"
    }
   ],
   "source": [
    "ASK_AMT = application_df['ASK_AMT']\n",
    "y = application_df['IS_SUCCESSFUL']\n",
    "application_df = application_df.drop(['EIN', 'NAME', 'ASK_AMT', 'IS_SUCCESSFUL'], axis=1)\n",
    "application_df.head()"
   ],
   "metadata": {
    "collapsed": false
   }
  },
  {
   "cell_type": "code",
   "execution_count": 230,
   "outputs": [
    {
     "data": {
      "text/plain": "T3       27037\nT4        1542\nT6        1216\nT5        1173\nT19       1065\nT8         737\nT7         725\nT10        528\nOther      276\nName: APPLICATION_TYPE, dtype: int64"
     },
     "execution_count": 230,
     "metadata": {},
     "output_type": "execute_result"
    }
   ],
   "source": [
    "# Choose a cutoff value and create a list of application types to be replaced\n",
    "# use the variable name `application_types_to_replace`\n",
    "threshold = 500\n",
    "category_counts = application_df['APPLICATION_TYPE'].value_counts()\n",
    "application_types_to_replace = category_counts[category_counts < threshold].index\n",
    "\n",
    "# Replace in dataframe\n",
    "for app in application_types_to_replace:\n",
    "    application_df['APPLICATION_TYPE'] = application_df['APPLICATION_TYPE'].replace(app,\"Other\")\n",
    "\n",
    "# Check to make sure binning was successful\n",
    "application_df['APPLICATION_TYPE'].value_counts()"
   ],
   "metadata": {
    "collapsed": false
   }
  },
  {
   "cell_type": "code",
   "execution_count": 231,
   "outputs": [
    {
     "data": {
      "text/plain": "Other    34273\nC1580        1\nC1900        1\nC1820        1\nC6100        1\nC1248        1\nC2600        1\nC1370        1\nC5200        1\nC4200        1\nC2190        1\nC1236        1\nC2570        1\nC3700        1\nC2561        1\nC2500        1\nC1570        1\nC1283        1\nC2380        1\nC1732        1\nC1728        1\nC2170        1\nC4120        1\nC8210        1\nC4500        1\nC1245        1\nC2150        1\nName: CLASSIFICATION, dtype: int64"
     },
     "execution_count": 231,
     "metadata": {},
     "output_type": "execute_result"
    }
   ],
   "source": [
    "# You may find it helpful to look at CLASSIFICATION value counts > 1\n",
    "\n",
    "# Choose a cutoff value and create a list of classifications to be replaced\n",
    "# use the variable name `classifications_to_replace\n",
    "\n",
    "threshold = 1\n",
    "category_counts = application_df['CLASSIFICATION'].value_counts()\n",
    "classifications_to_replace = category_counts[category_counts > threshold].index\n",
    "\n",
    "# Replace in dataframe\n",
    "for app in classifications_to_replace:\n",
    "    application_df['CLASSIFICATION'] = application_df['CLASSIFICATION'].replace(app,\"Other\")\n",
    "\n",
    "# Check to make sure binning was successful\n",
    "application_df['CLASSIFICATION'].value_counts()"
   ],
   "metadata": {
    "collapsed": false
   }
  },
  {
   "cell_type": "code",
   "execution_count": 232,
   "outputs": [
    {
     "data": {
      "text/plain": "   STATUS  APPLICATION_TYPE_Other  APPLICATION_TYPE_T10  APPLICATION_TYPE_T19  \\\n0       1                       0                     1                     0   \n1       1                       0                     0                     0   \n2       1                       0                     0                     0   \n3       1                       0                     0                     0   \n4       1                       0                     0                     0   \n\n   APPLICATION_TYPE_T3  APPLICATION_TYPE_T4  APPLICATION_TYPE_T5  \\\n0                    0                    0                    0   \n1                    1                    0                    0   \n2                    0                    0                    1   \n3                    1                    0                    0   \n4                    1                    0                    0   \n\n   APPLICATION_TYPE_T6  APPLICATION_TYPE_T7  APPLICATION_TYPE_T8  ...  \\\n0                    0                    0                    0  ...   \n1                    0                    0                    0  ...   \n2                    0                    0                    0  ...   \n3                    0                    0                    0  ...   \n4                    0                    0                    0  ...   \n\n   INCOME_AMT_1-9999  INCOME_AMT_10000-24999  INCOME_AMT_100000-499999  \\\n0                  0                       0                         0   \n1                  1                       0                         0   \n2                  0                       0                         0   \n3                  0                       1                         0   \n4                  0                       0                         1   \n\n   INCOME_AMT_10M-50M  INCOME_AMT_1M-5M  INCOME_AMT_25000-99999  \\\n0                   0                 0                       0   \n1                   0                 0                       0   \n2                   0                 0                       0   \n3                   0                 0                       0   \n4                   0                 0                       0   \n\n   INCOME_AMT_50M+  INCOME_AMT_5M-10M  SPECIAL_CONSIDERATIONS_N  \\\n0                0                  0                         1   \n1                0                  0                         1   \n2                0                  0                         1   \n3                0                  0                         1   \n4                0                  0                         1   \n\n   SPECIAL_CONSIDERATIONS_Y  \n0                         0  \n1                         0  \n2                         0  \n3                         0  \n4                         0  \n\n[5 rows x 63 columns]",
      "text/html": "<div>\n<style scoped>\n    .dataframe tbody tr th:only-of-type {\n        vertical-align: middle;\n    }\n\n    .dataframe tbody tr th {\n        vertical-align: top;\n    }\n\n    .dataframe thead th {\n        text-align: right;\n    }\n</style>\n<table border=\"1\" class=\"dataframe\">\n  <thead>\n    <tr style=\"text-align: right;\">\n      <th></th>\n      <th>STATUS</th>\n      <th>APPLICATION_TYPE_Other</th>\n      <th>APPLICATION_TYPE_T10</th>\n      <th>APPLICATION_TYPE_T19</th>\n      <th>APPLICATION_TYPE_T3</th>\n      <th>APPLICATION_TYPE_T4</th>\n      <th>APPLICATION_TYPE_T5</th>\n      <th>APPLICATION_TYPE_T6</th>\n      <th>APPLICATION_TYPE_T7</th>\n      <th>APPLICATION_TYPE_T8</th>\n      <th>...</th>\n      <th>INCOME_AMT_1-9999</th>\n      <th>INCOME_AMT_10000-24999</th>\n      <th>INCOME_AMT_100000-499999</th>\n      <th>INCOME_AMT_10M-50M</th>\n      <th>INCOME_AMT_1M-5M</th>\n      <th>INCOME_AMT_25000-99999</th>\n      <th>INCOME_AMT_50M+</th>\n      <th>INCOME_AMT_5M-10M</th>\n      <th>SPECIAL_CONSIDERATIONS_N</th>\n      <th>SPECIAL_CONSIDERATIONS_Y</th>\n    </tr>\n  </thead>\n  <tbody>\n    <tr>\n      <th>0</th>\n      <td>1</td>\n      <td>0</td>\n      <td>1</td>\n      <td>0</td>\n      <td>0</td>\n      <td>0</td>\n      <td>0</td>\n      <td>0</td>\n      <td>0</td>\n      <td>0</td>\n      <td>...</td>\n      <td>0</td>\n      <td>0</td>\n      <td>0</td>\n      <td>0</td>\n      <td>0</td>\n      <td>0</td>\n      <td>0</td>\n      <td>0</td>\n      <td>1</td>\n      <td>0</td>\n    </tr>\n    <tr>\n      <th>1</th>\n      <td>1</td>\n      <td>0</td>\n      <td>0</td>\n      <td>0</td>\n      <td>1</td>\n      <td>0</td>\n      <td>0</td>\n      <td>0</td>\n      <td>0</td>\n      <td>0</td>\n      <td>...</td>\n      <td>1</td>\n      <td>0</td>\n      <td>0</td>\n      <td>0</td>\n      <td>0</td>\n      <td>0</td>\n      <td>0</td>\n      <td>0</td>\n      <td>1</td>\n      <td>0</td>\n    </tr>\n    <tr>\n      <th>2</th>\n      <td>1</td>\n      <td>0</td>\n      <td>0</td>\n      <td>0</td>\n      <td>0</td>\n      <td>0</td>\n      <td>1</td>\n      <td>0</td>\n      <td>0</td>\n      <td>0</td>\n      <td>...</td>\n      <td>0</td>\n      <td>0</td>\n      <td>0</td>\n      <td>0</td>\n      <td>0</td>\n      <td>0</td>\n      <td>0</td>\n      <td>0</td>\n      <td>1</td>\n      <td>0</td>\n    </tr>\n    <tr>\n      <th>3</th>\n      <td>1</td>\n      <td>0</td>\n      <td>0</td>\n      <td>0</td>\n      <td>1</td>\n      <td>0</td>\n      <td>0</td>\n      <td>0</td>\n      <td>0</td>\n      <td>0</td>\n      <td>...</td>\n      <td>0</td>\n      <td>1</td>\n      <td>0</td>\n      <td>0</td>\n      <td>0</td>\n      <td>0</td>\n      <td>0</td>\n      <td>0</td>\n      <td>1</td>\n      <td>0</td>\n    </tr>\n    <tr>\n      <th>4</th>\n      <td>1</td>\n      <td>0</td>\n      <td>0</td>\n      <td>0</td>\n      <td>1</td>\n      <td>0</td>\n      <td>0</td>\n      <td>0</td>\n      <td>0</td>\n      <td>0</td>\n      <td>...</td>\n      <td>0</td>\n      <td>0</td>\n      <td>1</td>\n      <td>0</td>\n      <td>0</td>\n      <td>0</td>\n      <td>0</td>\n      <td>0</td>\n      <td>1</td>\n      <td>0</td>\n    </tr>\n  </tbody>\n</table>\n<p>5 rows × 63 columns</p>\n</div>"
     },
     "execution_count": 232,
     "metadata": {},
     "output_type": "execute_result"
    }
   ],
   "source": [
    "# Convert categorical data to numeric with `pd.get_dummies`\n",
    "#  YOUR CODE GOES HERE\n",
    "dummies =pd.get_dummies(application_df)\n",
    "dummies.head()"
   ],
   "metadata": {
    "collapsed": false
   }
  },
  {
   "cell_type": "code",
   "execution_count": 233,
   "outputs": [],
   "source": [
    "newDF = pd.concat([dummies,ASK_AMT], axis=1)"
   ],
   "metadata": {
    "collapsed": false
   }
  },
  {
   "cell_type": "code",
   "execution_count": 234,
   "outputs": [
    {
     "data": {
      "text/plain": "   STATUS  APPLICATION_TYPE_Other  APPLICATION_TYPE_T10  APPLICATION_TYPE_T19  \\\n0       1                       0                     1                     0   \n1       1                       0                     0                     0   \n2       1                       0                     0                     0   \n3       1                       0                     0                     0   \n4       1                       0                     0                     0   \n\n   APPLICATION_TYPE_T3  APPLICATION_TYPE_T4  APPLICATION_TYPE_T5  \\\n0                    0                    0                    0   \n1                    1                    0                    0   \n2                    0                    0                    1   \n3                    1                    0                    0   \n4                    1                    0                    0   \n\n   APPLICATION_TYPE_T6  APPLICATION_TYPE_T7  APPLICATION_TYPE_T8  ...  \\\n0                    0                    0                    0  ...   \n1                    0                    0                    0  ...   \n2                    0                    0                    0  ...   \n3                    0                    0                    0  ...   \n4                    0                    0                    0  ...   \n\n   INCOME_AMT_10000-24999  INCOME_AMT_100000-499999  INCOME_AMT_10M-50M  \\\n0                       0                         0                   0   \n1                       0                         0                   0   \n2                       0                         0                   0   \n3                       1                         0                   0   \n4                       0                         1                   0   \n\n   INCOME_AMT_1M-5M  INCOME_AMT_25000-99999  INCOME_AMT_50M+  \\\n0                 0                       0                0   \n1                 0                       0                0   \n2                 0                       0                0   \n3                 0                       0                0   \n4                 0                       0                0   \n\n   INCOME_AMT_5M-10M  SPECIAL_CONSIDERATIONS_N  SPECIAL_CONSIDERATIONS_Y  \\\n0                  0                         1                         0   \n1                  0                         1                         0   \n2                  0                         1                         0   \n3                  0                         1                         0   \n4                  0                         1                         0   \n\n   ASK_AMT  \n0     5000  \n1   108590  \n2     5000  \n3     6692  \n4   142590  \n\n[5 rows x 64 columns]",
      "text/html": "<div>\n<style scoped>\n    .dataframe tbody tr th:only-of-type {\n        vertical-align: middle;\n    }\n\n    .dataframe tbody tr th {\n        vertical-align: top;\n    }\n\n    .dataframe thead th {\n        text-align: right;\n    }\n</style>\n<table border=\"1\" class=\"dataframe\">\n  <thead>\n    <tr style=\"text-align: right;\">\n      <th></th>\n      <th>STATUS</th>\n      <th>APPLICATION_TYPE_Other</th>\n      <th>APPLICATION_TYPE_T10</th>\n      <th>APPLICATION_TYPE_T19</th>\n      <th>APPLICATION_TYPE_T3</th>\n      <th>APPLICATION_TYPE_T4</th>\n      <th>APPLICATION_TYPE_T5</th>\n      <th>APPLICATION_TYPE_T6</th>\n      <th>APPLICATION_TYPE_T7</th>\n      <th>APPLICATION_TYPE_T8</th>\n      <th>...</th>\n      <th>INCOME_AMT_10000-24999</th>\n      <th>INCOME_AMT_100000-499999</th>\n      <th>INCOME_AMT_10M-50M</th>\n      <th>INCOME_AMT_1M-5M</th>\n      <th>INCOME_AMT_25000-99999</th>\n      <th>INCOME_AMT_50M+</th>\n      <th>INCOME_AMT_5M-10M</th>\n      <th>SPECIAL_CONSIDERATIONS_N</th>\n      <th>SPECIAL_CONSIDERATIONS_Y</th>\n      <th>ASK_AMT</th>\n    </tr>\n  </thead>\n  <tbody>\n    <tr>\n      <th>0</th>\n      <td>1</td>\n      <td>0</td>\n      <td>1</td>\n      <td>0</td>\n      <td>0</td>\n      <td>0</td>\n      <td>0</td>\n      <td>0</td>\n      <td>0</td>\n      <td>0</td>\n      <td>...</td>\n      <td>0</td>\n      <td>0</td>\n      <td>0</td>\n      <td>0</td>\n      <td>0</td>\n      <td>0</td>\n      <td>0</td>\n      <td>1</td>\n      <td>0</td>\n      <td>5000</td>\n    </tr>\n    <tr>\n      <th>1</th>\n      <td>1</td>\n      <td>0</td>\n      <td>0</td>\n      <td>0</td>\n      <td>1</td>\n      <td>0</td>\n      <td>0</td>\n      <td>0</td>\n      <td>0</td>\n      <td>0</td>\n      <td>...</td>\n      <td>0</td>\n      <td>0</td>\n      <td>0</td>\n      <td>0</td>\n      <td>0</td>\n      <td>0</td>\n      <td>0</td>\n      <td>1</td>\n      <td>0</td>\n      <td>108590</td>\n    </tr>\n    <tr>\n      <th>2</th>\n      <td>1</td>\n      <td>0</td>\n      <td>0</td>\n      <td>0</td>\n      <td>0</td>\n      <td>0</td>\n      <td>1</td>\n      <td>0</td>\n      <td>0</td>\n      <td>0</td>\n      <td>...</td>\n      <td>0</td>\n      <td>0</td>\n      <td>0</td>\n      <td>0</td>\n      <td>0</td>\n      <td>0</td>\n      <td>0</td>\n      <td>1</td>\n      <td>0</td>\n      <td>5000</td>\n    </tr>\n    <tr>\n      <th>3</th>\n      <td>1</td>\n      <td>0</td>\n      <td>0</td>\n      <td>0</td>\n      <td>1</td>\n      <td>0</td>\n      <td>0</td>\n      <td>0</td>\n      <td>0</td>\n      <td>0</td>\n      <td>...</td>\n      <td>1</td>\n      <td>0</td>\n      <td>0</td>\n      <td>0</td>\n      <td>0</td>\n      <td>0</td>\n      <td>0</td>\n      <td>1</td>\n      <td>0</td>\n      <td>6692</td>\n    </tr>\n    <tr>\n      <th>4</th>\n      <td>1</td>\n      <td>0</td>\n      <td>0</td>\n      <td>0</td>\n      <td>1</td>\n      <td>0</td>\n      <td>0</td>\n      <td>0</td>\n      <td>0</td>\n      <td>0</td>\n      <td>...</td>\n      <td>0</td>\n      <td>1</td>\n      <td>0</td>\n      <td>0</td>\n      <td>0</td>\n      <td>0</td>\n      <td>0</td>\n      <td>1</td>\n      <td>0</td>\n      <td>142590</td>\n    </tr>\n  </tbody>\n</table>\n<p>5 rows × 64 columns</p>\n</div>"
     },
     "execution_count": 234,
     "metadata": {},
     "output_type": "execute_result"
    }
   ],
   "source": [
    "newDF.head()"
   ],
   "metadata": {
    "collapsed": false
   }
  },
  {
   "cell_type": "code",
   "execution_count": 235,
   "outputs": [],
   "source": [
    "# Split our preprocessed data into our features and target arrays\n",
    "x = newDF\n",
    "\n",
    "# Split the preprocessed data into a training and testing dataset\n",
    "X_train, X_test, Y_train, Y_test = train_test_split(x, y, random_state=42, test_size=0.2)\n",
    "# Create a StandardScaler instances\n",
    "scaler = StandardScaler()\n",
    "\n",
    "# Fit the StandardScaler\n",
    "X_scaler = scaler.fit(X_train)\n",
    "\n",
    "# Scale the data\n",
    "X_train_scaled = X_scaler.transform(X_train)\n",
    "X_test_scaled = X_scaler.transform(X_test)"
   ],
   "metadata": {
    "collapsed": false
   }
  },
  {
   "cell_type": "code",
   "execution_count": 236,
   "outputs": [
    {
     "data": {
      "text/plain": "(27439, 64)"
     },
     "execution_count": 236,
     "metadata": {},
     "output_type": "execute_result"
    }
   ],
   "source": [
    "X_train.shape"
   ],
   "metadata": {
    "collapsed": false
   }
  },
  {
   "cell_type": "code",
   "execution_count": 238,
   "outputs": [
    {
     "name": "stdout",
     "output_type": "stream",
     "text": [
      "Model: \"sequential_22\"\n",
      "_________________________________________________________________\n",
      " Layer (type)                Output Shape              Param #   \n",
      "=================================================================\n",
      " dense_107 (Dense)           (None, 512)               33280     \n",
      "                                                                 \n",
      " dense_108 (Dense)           (None, 256)               131328    \n",
      "                                                                 \n",
      " dense_109 (Dense)           (None, 128)               32896     \n",
      "                                                                 \n",
      " dense_110 (Dense)           (None, 64)                8256      \n",
      "                                                                 \n",
      " dense_111 (Dense)           (None, 1)                 65        \n",
      "                                                                 \n",
      "=================================================================\n",
      "Total params: 205,825\n",
      "Trainable params: 205,825\n",
      "Non-trainable params: 0\n",
      "_________________________________________________________________\n"
     ]
    }
   ],
   "source": [
    "# Define the model - deep neural net, i.e., the number of input features and hidden nodes for each layer.\n",
    "\n",
    "nn = tf.keras.models.Sequential([\n",
    "    keras.layers.Dense(input_shape=(64,) ,units=512,activation='relu'),\n",
    "    keras.layers.Dense(units=256,activation='relu'),\n",
    "    keras.layers.Dense(units=128,activation='relu'),\n",
    "    keras.layers.Dense(units=64,activation='relu'),\n",
    "    keras.layers.Dense(units=1,activation='sigmoid'),\n",
    "])\n",
    "\n",
    "# Check the structure of the model\n",
    "nn.summary()"
   ],
   "metadata": {
    "collapsed": false
   }
  },
  {
   "cell_type": "code",
   "execution_count": 239,
   "outputs": [
    {
     "data": {
      "image/png": "[encoded data removed]",
      "text/plain": "<IPython.core.display.Image object>"
     },
     "execution_count": 239,
     "metadata": {},
     "output_type": "execute_result"
    }
   ],
   "source": [
    "keras.utils.plot_model(nn,\n",
    "                       show_shapes=True,\n",
    "                       show_dtype=True,\n",
    "                       show_layer_names=True,\n",
    "                       show_layer_activations=True)"
   ],
   "metadata": {
    "collapsed": false
   }
  },
  {
   "cell_type": "code",
   "execution_count": 240,
   "outputs": [
    {
     "name": "stdout",
     "output_type": "stream",
     "text": [
      "Epoch 1/100\n",
      "212/215 [============================>.] - ETA: 0s - loss: 0.5782 - accuracy: 0.7210  Saved model weights at epoch 0.\n",
      "215/215 [==============================] - 4s 11ms/step - loss: 0.5782 - accuracy: 0.7206 - val_loss: 0.5767 - val_accuracy: 0.7219\n",
      "Epoch 2/100\n",
      "215/215 [==============================] - 2s 8ms/step - loss: 0.5694 - accuracy: 0.7247 - val_loss: 0.5796 - val_accuracy: 0.7179\n",
      "Epoch 3/100\n",
      "215/215 [==============================] - 2s 8ms/step - loss: 0.5689 - accuracy: 0.7265 - val_loss: 0.5843 - val_accuracy: 0.7224\n",
      "Epoch 4/100\n",
      "215/215 [==============================] - 2s 9ms/step - loss: 0.5666 - accuracy: 0.7275 - val_loss: 0.5742 - val_accuracy: 0.7229\n",
      "Epoch 5/100\n",
      "215/215 [==============================] - 2s 9ms/step - loss: 0.5661 - accuracy: 0.7267 - val_loss: 0.5749 - val_accuracy: 0.7230\n",
      "Epoch 6/100\n",
      "214/215 [============================>.] - ETA: 0s - loss: 0.5653 - accuracy: 0.7280  Saved model weights at epoch 5.\n",
      "215/215 [==============================] - 2s 10ms/step - loss: 0.5653 - accuracy: 0.7280 - val_loss: 0.5738 - val_accuracy: 0.7235\n",
      "Epoch 7/100\n",
      "215/215 [==============================] - 2s 8ms/step - loss: 0.5648 - accuracy: 0.7289 - val_loss: 0.5758 - val_accuracy: 0.7219\n",
      "Epoch 8/100\n",
      "215/215 [==============================] - 2s 9ms/step - loss: 0.5642 - accuracy: 0.7283 - val_loss: 0.5745 - val_accuracy: 0.7222\n",
      "Epoch 9/100\n",
      "215/215 [==============================] - 2s 9ms/step - loss: 0.5640 - accuracy: 0.7279 - val_loss: 0.5760 - val_accuracy: 0.7245\n",
      "Epoch 10/100\n",
      "215/215 [==============================] - 2s 9ms/step - loss: 0.5643 - accuracy: 0.7290 - val_loss: 0.5761 - val_accuracy: 0.7235\n",
      "Epoch 11/100\n",
      "210/215 [============================>.] - ETA: 0s - loss: 0.5635 - accuracy: 0.7281  Saved model weights at epoch 10.\n",
      "215/215 [==============================] - 2s 10ms/step - loss: 0.5631 - accuracy: 0.7287 - val_loss: 0.5752 - val_accuracy: 0.7235\n",
      "Epoch 12/100\n",
      "215/215 [==============================] - 2s 8ms/step - loss: 0.5632 - accuracy: 0.7287 - val_loss: 0.5765 - val_accuracy: 0.7233\n",
      "Epoch 13/100\n",
      "215/215 [==============================] - 2s 9ms/step - loss: 0.5630 - accuracy: 0.7288 - val_loss: 0.5741 - val_accuracy: 0.7204\n",
      "Epoch 14/100\n",
      "215/215 [==============================] - 2s 9ms/step - loss: 0.5630 - accuracy: 0.7292 - val_loss: 0.5750 - val_accuracy: 0.7213\n",
      "Epoch 15/100\n",
      "215/215 [==============================] - 2s 8ms/step - loss: 0.5630 - accuracy: 0.7296 - val_loss: 0.5788 - val_accuracy: 0.7219\n",
      "Epoch 16/100\n",
      "213/215 [============================>.] - ETA: 0s - loss: 0.5628 - accuracy: 0.7291  Saved model weights at epoch 15.\n",
      "215/215 [==============================] - 2s 9ms/step - loss: 0.5625 - accuracy: 0.7295 - val_loss: 0.5785 - val_accuracy: 0.7206\n",
      "Epoch 17/100\n",
      "215/215 [==============================] - 2s 9ms/step - loss: 0.5625 - accuracy: 0.7294 - val_loss: 0.5747 - val_accuracy: 0.7230\n",
      "Epoch 18/100\n",
      "215/215 [==============================] - 2s 9ms/step - loss: 0.5632 - accuracy: 0.7303 - val_loss: 0.5740 - val_accuracy: 0.7206\n",
      "Epoch 19/100\n",
      "215/215 [==============================] - 2s 10ms/step - loss: 0.5623 - accuracy: 0.7298 - val_loss: 0.5741 - val_accuracy: 0.7239\n",
      "Epoch 20/100\n",
      "215/215 [==============================] - 2s 10ms/step - loss: 0.5617 - accuracy: 0.7314 - val_loss: 0.5757 - val_accuracy: 0.7242\n",
      "Epoch 21/100\n",
      "211/215 [============================>.] - ETA: 0s - loss: 0.5614 - accuracy: 0.7299  Saved model weights at epoch 20.\n",
      "215/215 [==============================] - 2s 11ms/step - loss: 0.5615 - accuracy: 0.7298 - val_loss: 0.5781 - val_accuracy: 0.7241\n",
      "Epoch 22/100\n",
      "215/215 [==============================] - 2s 9ms/step - loss: 0.5621 - accuracy: 0.7305 - val_loss: 0.5754 - val_accuracy: 0.7229\n",
      "Epoch 23/100\n",
      "215/215 [==============================] - 2s 8ms/step - loss: 0.5616 - accuracy: 0.7296 - val_loss: 0.5737 - val_accuracy: 0.7226\n",
      "Epoch 24/100\n",
      "215/215 [==============================] - 2s 8ms/step - loss: 0.5609 - accuracy: 0.7306 - val_loss: 0.5734 - val_accuracy: 0.7220\n",
      "Epoch 25/100\n",
      "215/215 [==============================] - 2s 8ms/step - loss: 0.5609 - accuracy: 0.7301 - val_loss: 0.5763 - val_accuracy: 0.7213\n",
      "Epoch 26/100\n",
      "213/215 [============================>.] - ETA: 0s - loss: 0.5608 - accuracy: 0.7305  Saved model weights at epoch 25.\n",
      "215/215 [==============================] - 2s 10ms/step - loss: 0.5609 - accuracy: 0.7303 - val_loss: 0.5746 - val_accuracy: 0.7220\n",
      "Epoch 27/100\n",
      "215/215 [==============================] - 2s 8ms/step - loss: 0.5611 - accuracy: 0.7305 - val_loss: 0.5763 - val_accuracy: 0.7213\n",
      "Epoch 28/100\n",
      "215/215 [==============================] - 2s 8ms/step - loss: 0.5608 - accuracy: 0.7295 - val_loss: 0.5751 - val_accuracy: 0.7233\n",
      "Epoch 29/100\n",
      "215/215 [==============================] - 2s 9ms/step - loss: 0.5608 - accuracy: 0.7302 - val_loss: 0.5779 - val_accuracy: 0.7236\n",
      "Epoch 30/100\n",
      "215/215 [==============================] - 2s 9ms/step - loss: 0.5602 - accuracy: 0.7306 - val_loss: 0.5762 - val_accuracy: 0.7224\n",
      "Epoch 31/100\n",
      "215/215 [==============================] - ETA: 0s - loss: 0.5605 - accuracy: 0.7301  Saved model weights at epoch 30.\n",
      "215/215 [==============================] - 2s 10ms/step - loss: 0.5605 - accuracy: 0.7301 - val_loss: 0.5762 - val_accuracy: 0.7211\n",
      "Epoch 32/100\n",
      "215/215 [==============================] - 2s 8ms/step - loss: 0.5606 - accuracy: 0.7310 - val_loss: 0.5785 - val_accuracy: 0.7242\n",
      "Epoch 33/100\n",
      "215/215 [==============================] - 2s 9ms/step - loss: 0.5602 - accuracy: 0.7301 - val_loss: 0.5759 - val_accuracy: 0.7227\n",
      "Epoch 34/100\n",
      "215/215 [==============================] - 2s 8ms/step - loss: 0.5606 - accuracy: 0.7305 - val_loss: 0.5754 - val_accuracy: 0.7235\n",
      "Epoch 35/100\n",
      "215/215 [==============================] - 2s 8ms/step - loss: 0.5599 - accuracy: 0.7304 - val_loss: 0.5762 - val_accuracy: 0.7246\n",
      "Epoch 36/100\n",
      "213/215 [============================>.] - ETA: 0s - loss: 0.5598 - accuracy: 0.7304  Saved model weights at epoch 35.\n",
      "215/215 [==============================] - 2s 10ms/step - loss: 0.5599 - accuracy: 0.7303 - val_loss: 0.5764 - val_accuracy: 0.7235\n",
      "Epoch 37/100\n",
      "215/215 [==============================] - 2s 10ms/step - loss: 0.5601 - accuracy: 0.7309 - val_loss: 0.5760 - val_accuracy: 0.7233\n",
      "Epoch 38/100\n",
      "215/215 [==============================] - 2s 10ms/step - loss: 0.5595 - accuracy: 0.7306 - val_loss: 0.5785 - val_accuracy: 0.7229\n",
      "Epoch 39/100\n",
      "215/215 [==============================] - 2s 9ms/step - loss: 0.5596 - accuracy: 0.7311 - val_loss: 0.5778 - val_accuracy: 0.7243\n",
      "Epoch 40/100\n",
      "215/215 [==============================] - 2s 8ms/step - loss: 0.5592 - accuracy: 0.7310 - val_loss: 0.5816 - val_accuracy: 0.7198\n",
      "Epoch 41/100\n",
      "211/215 [============================>.] - ETA: 0s - loss: 0.5592 - accuracy: 0.7304  Saved model weights at epoch 40.\n",
      "215/215 [==============================] - 2s 10ms/step - loss: 0.5592 - accuracy: 0.7304 - val_loss: 0.5794 - val_accuracy: 0.7217\n",
      "Epoch 42/100\n",
      "215/215 [==============================] - 2s 9ms/step - loss: 0.5590 - accuracy: 0.7311 - val_loss: 0.5784 - val_accuracy: 0.7236\n",
      "Epoch 43/100\n",
      "215/215 [==============================] - 2s 8ms/step - loss: 0.5588 - accuracy: 0.7303 - val_loss: 0.5805 - val_accuracy: 0.7232\n",
      "Epoch 44/100\n",
      "215/215 [==============================] - 2s 8ms/step - loss: 0.5589 - accuracy: 0.7310 - val_loss: 0.5813 - val_accuracy: 0.7229\n",
      "Epoch 45/100\n",
      "215/215 [==============================] - 2s 9ms/step - loss: 0.5594 - accuracy: 0.7310 - val_loss: 0.5833 - val_accuracy: 0.7226\n",
      "Epoch 46/100\n",
      "213/215 [============================>.] - ETA: 0s - loss: 0.5591 - accuracy: 0.7307  Saved model weights at epoch 45.\n",
      "215/215 [==============================] - 2s 11ms/step - loss: 0.5592 - accuracy: 0.7306 - val_loss: 0.5799 - val_accuracy: 0.7235\n",
      "Epoch 47/100\n",
      "215/215 [==============================] - 2s 11ms/step - loss: 0.5587 - accuracy: 0.7309 - val_loss: 0.5858 - val_accuracy: 0.7229\n",
      "Epoch 48/100\n",
      "215/215 [==============================] - 2s 10ms/step - loss: 0.5590 - accuracy: 0.7313 - val_loss: 0.5776 - val_accuracy: 0.7223\n",
      "Epoch 49/100\n",
      "215/215 [==============================] - 2s 8ms/step - loss: 0.5585 - accuracy: 0.7309 - val_loss: 0.5867 - val_accuracy: 0.7223\n",
      "Epoch 50/100\n",
      "215/215 [==============================] - 2s 10ms/step - loss: 0.5586 - accuracy: 0.7308 - val_loss: 0.5869 - val_accuracy: 0.7217\n",
      "Epoch 51/100\n",
      "213/215 [============================>.] - ETA: 0s - loss: 0.5587 - accuracy: 0.7308  Saved model weights at epoch 50.\n",
      "215/215 [==============================] - 3s 12ms/step - loss: 0.5587 - accuracy: 0.7308 - val_loss: 0.5879 - val_accuracy: 0.7230\n",
      "Epoch 52/100\n",
      "215/215 [==============================] - 2s 10ms/step - loss: 0.5586 - accuracy: 0.7316 - val_loss: 0.5872 - val_accuracy: 0.7227\n",
      "Epoch 53/100\n",
      "215/215 [==============================] - 2s 9ms/step - loss: 0.5586 - accuracy: 0.7309 - val_loss: 0.5823 - val_accuracy: 0.7211\n",
      "Epoch 54/100\n",
      "215/215 [==============================] - 2s 9ms/step - loss: 0.5585 - accuracy: 0.7305 - val_loss: 0.5845 - val_accuracy: 0.7227\n",
      "Epoch 55/100\n",
      "215/215 [==============================] - 2s 9ms/step - loss: 0.5589 - accuracy: 0.7311 - val_loss: 0.5827 - val_accuracy: 0.7219\n",
      "Epoch 56/100\n",
      "215/215 [==============================] - ETA: 0s - loss: 0.5586 - accuracy: 0.7312  Saved model weights at epoch 55.\n",
      "215/215 [==============================] - 2s 11ms/step - loss: 0.5586 - accuracy: 0.7312 - val_loss: 0.5878 - val_accuracy: 0.7229\n",
      "Epoch 57/100\n",
      "215/215 [==============================] - 2s 10ms/step - loss: 0.5581 - accuracy: 0.7319 - val_loss: 0.5849 - val_accuracy: 0.7219\n",
      "Epoch 58/100\n",
      "215/215 [==============================] - 2s 10ms/step - loss: 0.5586 - accuracy: 0.7312 - val_loss: 0.5854 - val_accuracy: 0.7229\n",
      "Epoch 59/100\n",
      "215/215 [==============================] - 2s 9ms/step - loss: 0.5580 - accuracy: 0.7315 - val_loss: 0.5862 - val_accuracy: 0.7217\n",
      "Epoch 60/100\n",
      "215/215 [==============================] - 2s 10ms/step - loss: 0.5582 - accuracy: 0.7322 - val_loss: 0.5847 - val_accuracy: 0.7229\n",
      "Epoch 61/100\n",
      "213/215 [============================>.] - ETA: 0s - loss: 0.5573 - accuracy: 0.7317  Saved model weights at epoch 60.\n",
      "215/215 [==============================] - 2s 9ms/step - loss: 0.5576 - accuracy: 0.7313 - val_loss: 0.5900 - val_accuracy: 0.7229\n",
      "Epoch 62/100\n",
      "215/215 [==============================] - 2s 8ms/step - loss: 0.5578 - accuracy: 0.7320 - val_loss: 0.5886 - val_accuracy: 0.7216\n",
      "Epoch 63/100\n",
      "215/215 [==============================] - 2s 8ms/step - loss: 0.5581 - accuracy: 0.7307 - val_loss: 0.5893 - val_accuracy: 0.7214\n",
      "Epoch 64/100\n",
      "215/215 [==============================] - 2s 8ms/step - loss: 0.5578 - accuracy: 0.7311 - val_loss: 0.5880 - val_accuracy: 0.7220\n",
      "Epoch 65/100\n",
      "215/215 [==============================] - 2s 8ms/step - loss: 0.5579 - accuracy: 0.7316 - val_loss: 0.5872 - val_accuracy: 0.7232\n",
      "Epoch 66/100\n",
      "212/215 [============================>.] - ETA: 0s - loss: 0.5578 - accuracy: 0.7308  Saved model weights at epoch 65.\n",
      "215/215 [==============================] - 2s 9ms/step - loss: 0.5574 - accuracy: 0.7313 - val_loss: 0.5891 - val_accuracy: 0.7236\n",
      "Epoch 67/100\n",
      "215/215 [==============================] - 2s 9ms/step - loss: 0.5576 - accuracy: 0.7311 - val_loss: 0.5938 - val_accuracy: 0.7236\n",
      "Epoch 68/100\n",
      "215/215 [==============================] - 2s 9ms/step - loss: 0.5573 - accuracy: 0.7315 - val_loss: 0.5997 - val_accuracy: 0.7230\n",
      "Epoch 69/100\n",
      "215/215 [==============================] - 2s 9ms/step - loss: 0.5574 - accuracy: 0.7316 - val_loss: 0.5976 - val_accuracy: 0.7230\n",
      "Epoch 70/100\n",
      "215/215 [==============================] - 2s 8ms/step - loss: 0.5590 - accuracy: 0.7313 - val_loss: 0.5980 - val_accuracy: 0.7217\n",
      "Epoch 71/100\n",
      "210/215 [============================>.] - ETA: 0s - loss: 0.5569 - accuracy: 0.7315  Saved model weights at epoch 70.\n",
      "215/215 [==============================] - 2s 9ms/step - loss: 0.5575 - accuracy: 0.7311 - val_loss: 0.5926 - val_accuracy: 0.7229\n",
      "Epoch 72/100\n",
      "215/215 [==============================] - 2s 8ms/step - loss: 0.5578 - accuracy: 0.7317 - val_loss: 0.6102 - val_accuracy: 0.7223\n",
      "Epoch 73/100\n",
      "215/215 [==============================] - 2s 8ms/step - loss: 0.5583 - accuracy: 0.7312 - val_loss: 0.6044 - val_accuracy: 0.7211\n",
      "Epoch 74/100\n",
      "215/215 [==============================] - 2s 8ms/step - loss: 0.5583 - accuracy: 0.7318 - val_loss: 0.5935 - val_accuracy: 0.7204\n",
      "Epoch 75/100\n",
      "215/215 [==============================] - 2s 8ms/step - loss: 0.5573 - accuracy: 0.7314 - val_loss: 0.5964 - val_accuracy: 0.7210\n",
      "Epoch 76/100\n",
      "210/215 [============================>.] - ETA: 0s - loss: 0.5567 - accuracy: 0.7322  Saved model weights at epoch 75.\n",
      "215/215 [==============================] - 2s 9ms/step - loss: 0.5570 - accuracy: 0.7320 - val_loss: 0.5995 - val_accuracy: 0.7213\n",
      "Epoch 77/100\n",
      "215/215 [==============================] - 3s 12ms/step - loss: 0.5572 - accuracy: 0.7314 - val_loss: 0.5985 - val_accuracy: 0.7217\n",
      "Epoch 78/100\n",
      "215/215 [==============================] - 3s 14ms/step - loss: 0.5574 - accuracy: 0.7310 - val_loss: 0.6039 - val_accuracy: 0.7223\n",
      "Epoch 79/100\n",
      "215/215 [==============================] - 3s 12ms/step - loss: 0.5575 - accuracy: 0.7315 - val_loss: 0.5962 - val_accuracy: 0.7223\n",
      "Epoch 80/100\n",
      "215/215 [==============================] - 2s 10ms/step - loss: 0.5571 - accuracy: 0.7313 - val_loss: 0.5992 - val_accuracy: 0.7230\n",
      "Epoch 81/100\n",
      "211/215 [============================>.] - ETA: 0s - loss: 0.5574 - accuracy: 0.7317  Saved model weights at epoch 80.\n",
      "215/215 [==============================] - 2s 9ms/step - loss: 0.5578 - accuracy: 0.7315 - val_loss: 0.5927 - val_accuracy: 0.7220\n",
      "Epoch 82/100\n",
      "215/215 [==============================] - 2s 8ms/step - loss: 0.5574 - accuracy: 0.7311 - val_loss: 0.6070 - val_accuracy: 0.7235\n",
      "Epoch 83/100\n",
      "215/215 [==============================] - 2s 9ms/step - loss: 0.5574 - accuracy: 0.7314 - val_loss: 0.5924 - val_accuracy: 0.7226\n",
      "Epoch 84/100\n",
      "215/215 [==============================] - 2s 9ms/step - loss: 0.5571 - accuracy: 0.7313 - val_loss: 0.5986 - val_accuracy: 0.7214\n",
      "Epoch 85/100\n",
      "215/215 [==============================] - 2s 8ms/step - loss: 0.5570 - accuracy: 0.7320 - val_loss: 0.6041 - val_accuracy: 0.7220\n",
      "Epoch 86/100\n",
      "213/215 [============================>.] - ETA: 0s - loss: 0.5573 - accuracy: 0.7325  Saved model weights at epoch 85.\n",
      "215/215 [==============================] - 2s 10ms/step - loss: 0.5574 - accuracy: 0.7322 - val_loss: 0.5972 - val_accuracy: 0.7229\n",
      "Epoch 87/100\n",
      "215/215 [==============================] - 2s 9ms/step - loss: 0.5570 - accuracy: 0.7318 - val_loss: 0.6010 - val_accuracy: 0.7216\n",
      "Epoch 88/100\n",
      "215/215 [==============================] - 2s 8ms/step - loss: 0.5571 - accuracy: 0.7318 - val_loss: 0.6134 - val_accuracy: 0.7211\n",
      "Epoch 89/100\n",
      "215/215 [==============================] - 2s 8ms/step - loss: 0.5967 - accuracy: 0.7318 - val_loss: 0.5925 - val_accuracy: 0.7232\n",
      "Epoch 90/100\n",
      "215/215 [==============================] - 2s 8ms/step - loss: 0.5630 - accuracy: 0.7313 - val_loss: 0.5930 - val_accuracy: 0.7222\n",
      "Epoch 91/100\n",
      "208/215 [============================>.] - ETA: 0s - loss: 0.5581 - accuracy: 0.7310  Saved model weights at epoch 90.\n",
      "215/215 [==============================] - 2s 9ms/step - loss: 0.5580 - accuracy: 0.7311 - val_loss: 0.5950 - val_accuracy: 0.7229\n",
      "Epoch 92/100\n",
      "215/215 [==============================] - 2s 9ms/step - loss: 0.5569 - accuracy: 0.7318 - val_loss: 0.5980 - val_accuracy: 0.7227\n",
      "Epoch 93/100\n",
      "215/215 [==============================] - 2s 9ms/step - loss: 0.5565 - accuracy: 0.7317 - val_loss: 0.6066 - val_accuracy: 0.7227\n",
      "Epoch 94/100\n",
      "215/215 [==============================] - 2s 9ms/step - loss: 0.5568 - accuracy: 0.7318 - val_loss: 0.5985 - val_accuracy: 0.7232\n",
      "Epoch 95/100\n",
      "215/215 [==============================] - 2s 9ms/step - loss: 0.5567 - accuracy: 0.7318 - val_loss: 0.6052 - val_accuracy: 0.7207\n",
      "Epoch 96/100\n",
      "208/215 [============================>.] - ETA: 0s - loss: 0.5559 - accuracy: 0.7326  Saved model weights at epoch 95.\n",
      "215/215 [==============================] - 2s 10ms/step - loss: 0.5567 - accuracy: 0.7319 - val_loss: 0.6012 - val_accuracy: 0.7227\n",
      "Epoch 97/100\n",
      "215/215 [==============================] - 2s 8ms/step - loss: 0.5565 - accuracy: 0.7319 - val_loss: 0.6039 - val_accuracy: 0.7224\n",
      "Epoch 98/100\n",
      "215/215 [==============================] - 2s 8ms/step - loss: 0.5562 - accuracy: 0.7317 - val_loss: 0.6111 - val_accuracy: 0.7217\n",
      "Epoch 99/100\n",
      "215/215 [==============================] - 2s 9ms/step - loss: 0.5563 - accuracy: 0.7318 - val_loss: 0.6117 - val_accuracy: 0.7223\n",
      "Epoch 100/100\n",
      "215/215 [==============================] - 2s 10ms/step - loss: 0.5564 - accuracy: 0.7324 - val_loss: 0.6162 - val_accuracy: 0.7217\n"
     ]
    }
   ],
   "source": [
    "class SaveWeightsCallback(tf.keras.callbacks.Callback):\n",
    "    def on_epoch_end(self, epoch, logs=None):\n",
    "        if epoch % 5 == 0:\n",
    "            self.model.save_weights('model_weights.h5')\n",
    "            print(f'  Saved model weights at epoch {epoch}.')\n",
    "\n",
    "\n",
    "# Compile the model\n",
    "nn.compile(\n",
    "    optimizer='adam',\n",
    "    metrics=['accuracy'],\n",
    "    loss='binary_crossentropy'\n",
    ")\n",
    "# Train the model\n",
    "history = nn.fit(X_train_scaled, Y_train, epochs=100, validation_data=(X_test_scaled, Y_test), batch_size=128,\n",
    "                 callbacks=[SaveWeightsCallback()])"
   ],
   "metadata": {
    "collapsed": false
   }
  },
  {
   "cell_type": "code",
   "execution_count": 241,
   "outputs": [
    {
     "name": "stdout",
     "output_type": "stream",
     "text": [
      "215/215 - 1s - loss: 0.6162 - accuracy: 0.7217 - 803ms/epoch - 4ms/step\n",
      "Loss: 0.6162271499633789, Accuracy: 0.7217200994491577\n"
     ]
    }
   ],
   "source": [
    "# Evaluate the model using the test data\n",
    "model_loss, model_accuracy = nn.evaluate(X_test_scaled,Y_test,verbose=2)\n",
    "print(f\"Loss: {model_loss}, Accuracy: {model_accuracy}\")"
   ],
   "metadata": {
    "collapsed": false
   }
  },
  {
   "cell_type": "markdown",
   "source": [],
   "metadata": {
    "collapsed": false
   }
  },
  {
   "cell_type": "markdown",
   "source": [
    "# ATTEMPT 2"
   ],
   "metadata": {
    "collapsed": false
   }
  },
  {
   "cell_type": "code",
   "execution_count": 246,
   "outputs": [
    {
     "data": {
      "text/plain": "  APPLICATION_TYPE       AFFILIATION      USE_CASE  ORGANIZATION  STATUS  \\\n0              T10       Independent    ProductDev   Association       1   \n1               T3       Independent  Preservation  Co-operative       1   \n2               T5  CompanySponsored    ProductDev   Association       1   \n3               T3  CompanySponsored  Preservation         Trust       1   \n4               T3       Independent     Heathcare         Trust       1   \n\n      INCOME_AMT SPECIAL_CONSIDERATIONS  \n0              0                      N  \n1         1-9999                      N  \n2              0                      N  \n3    10000-24999                      N  \n4  100000-499999                      N  ",
      "text/html": "<div>\n<style scoped>\n    .dataframe tbody tr th:only-of-type {\n        vertical-align: middle;\n    }\n\n    .dataframe tbody tr th {\n        vertical-align: top;\n    }\n\n    .dataframe thead th {\n        text-align: right;\n    }\n</style>\n<table border=\"1\" class=\"dataframe\">\n  <thead>\n    <tr style=\"text-align: right;\">\n      <th></th>\n      <th>APPLICATION_TYPE</th>\n      <th>AFFILIATION</th>\n      <th>USE_CASE</th>\n      <th>ORGANIZATION</th>\n      <th>STATUS</th>\n      <th>INCOME_AMT</th>\n      <th>SPECIAL_CONSIDERATIONS</th>\n    </tr>\n  </thead>\n  <tbody>\n    <tr>\n      <th>0</th>\n      <td>T10</td>\n      <td>Independent</td>\n      <td>ProductDev</td>\n      <td>Association</td>\n      <td>1</td>\n      <td>0</td>\n      <td>N</td>\n    </tr>\n    <tr>\n      <th>1</th>\n      <td>T3</td>\n      <td>Independent</td>\n      <td>Preservation</td>\n      <td>Co-operative</td>\n      <td>1</td>\n      <td>1-9999</td>\n      <td>N</td>\n    </tr>\n    <tr>\n      <th>2</th>\n      <td>T5</td>\n      <td>CompanySponsored</td>\n      <td>ProductDev</td>\n      <td>Association</td>\n      <td>1</td>\n      <td>0</td>\n      <td>N</td>\n    </tr>\n    <tr>\n      <th>3</th>\n      <td>T3</td>\n      <td>CompanySponsored</td>\n      <td>Preservation</td>\n      <td>Trust</td>\n      <td>1</td>\n      <td>10000-24999</td>\n      <td>N</td>\n    </tr>\n    <tr>\n      <th>4</th>\n      <td>T3</td>\n      <td>Independent</td>\n      <td>Heathcare</td>\n      <td>Trust</td>\n      <td>1</td>\n      <td>100000-499999</td>\n      <td>N</td>\n    </tr>\n  </tbody>\n</table>\n</div>"
     },
     "execution_count": 246,
     "metadata": {},
     "output_type": "execute_result"
    }
   ],
   "source": [
    "ASK_AMT = application_df['ASK_AMT']\n",
    "y = application_df['IS_SUCCESSFUL']\n",
    "application_df = application_df.drop(['EIN', 'NAME', 'ASK_AMT', 'IS_SUCCESSFUL','CLASSIFICATION'], axis=1)\n",
    "application_df.head()"
   ],
   "metadata": {
    "collapsed": false
   }
  },
  {
   "cell_type": "code",
   "execution_count": 247,
   "outputs": [
    {
     "data": {
      "text/plain": "T3       27037\nT4        1542\nT6        1216\nT5        1173\nT19       1065\nT8         737\nT7         725\nT10        528\nOther      276\nName: APPLICATION_TYPE, dtype: int64"
     },
     "execution_count": 247,
     "metadata": {},
     "output_type": "execute_result"
    }
   ],
   "source": [
    "# Choose a cutoff value and create a list of application types to be replaced\n",
    "# use the variable name `application_types_to_replace`\n",
    "threshold = 500\n",
    "category_counts = application_df['APPLICATION_TYPE'].value_counts()\n",
    "application_types_to_replace = category_counts[category_counts < threshold].index\n",
    "\n",
    "# Replace in dataframe\n",
    "for app in application_types_to_replace:\n",
    "    application_df['APPLICATION_TYPE'] = application_df['APPLICATION_TYPE'].replace(app,\"Other\")\n",
    "\n",
    "# Check to make sure binning was successful\n",
    "application_df['APPLICATION_TYPE'].value_counts()"
   ],
   "metadata": {
    "collapsed": false
   }
  },
  {
   "cell_type": "code",
   "execution_count": 248,
   "outputs": [
    {
     "data": {
      "text/plain": "   STATUS  APPLICATION_TYPE_Other  APPLICATION_TYPE_T10  APPLICATION_TYPE_T19  \\\n0       1                       0                     1                     0   \n1       1                       0                     0                     0   \n2       1                       0                     0                     0   \n3       1                       0                     0                     0   \n4       1                       0                     0                     0   \n\n   APPLICATION_TYPE_T3  APPLICATION_TYPE_T4  APPLICATION_TYPE_T5  \\\n0                    0                    0                    0   \n1                    1                    0                    0   \n2                    0                    0                    1   \n3                    1                    0                    0   \n4                    1                    0                    0   \n\n   APPLICATION_TYPE_T6  APPLICATION_TYPE_T7  APPLICATION_TYPE_T8  ...  \\\n0                    0                    0                    0  ...   \n1                    0                    0                    0  ...   \n2                    0                    0                    0  ...   \n3                    0                    0                    0  ...   \n4                    0                    0                    0  ...   \n\n   INCOME_AMT_1-9999  INCOME_AMT_10000-24999  INCOME_AMT_100000-499999  \\\n0                  0                       0                         0   \n1                  1                       0                         0   \n2                  0                       0                         0   \n3                  0                       1                         0   \n4                  0                       0                         1   \n\n   INCOME_AMT_10M-50M  INCOME_AMT_1M-5M  INCOME_AMT_25000-99999  \\\n0                   0                 0                       0   \n1                   0                 0                       0   \n2                   0                 0                       0   \n3                   0                 0                       0   \n4                   0                 0                       0   \n\n   INCOME_AMT_50M+  INCOME_AMT_5M-10M  SPECIAL_CONSIDERATIONS_N  \\\n0                0                  0                         1   \n1                0                  0                         1   \n2                0                  0                         1   \n3                0                  0                         1   \n4                0                  0                         1   \n\n   SPECIAL_CONSIDERATIONS_Y  \n0                         0  \n1                         0  \n2                         0  \n3                         0  \n4                         0  \n\n[5 rows x 36 columns]",
      "text/html": "<div>\n<style scoped>\n    .dataframe tbody tr th:only-of-type {\n        vertical-align: middle;\n    }\n\n    .dataframe tbody tr th {\n        vertical-align: top;\n    }\n\n    .dataframe thead th {\n        text-align: right;\n    }\n</style>\n<table border=\"1\" class=\"dataframe\">\n  <thead>\n    <tr style=\"text-align: right;\">\n      <th></th>\n      <th>STATUS</th>\n      <th>APPLICATION_TYPE_Other</th>\n      <th>APPLICATION_TYPE_T10</th>\n      <th>APPLICATION_TYPE_T19</th>\n      <th>APPLICATION_TYPE_T3</th>\n      <th>APPLICATION_TYPE_T4</th>\n      <th>APPLICATION_TYPE_T5</th>\n      <th>APPLICATION_TYPE_T6</th>\n      <th>APPLICATION_TYPE_T7</th>\n      <th>APPLICATION_TYPE_T8</th>\n      <th>...</th>\n      <th>INCOME_AMT_1-9999</th>\n      <th>INCOME_AMT_10000-24999</th>\n      <th>INCOME_AMT_100000-499999</th>\n      <th>INCOME_AMT_10M-50M</th>\n      <th>INCOME_AMT_1M-5M</th>\n      <th>INCOME_AMT_25000-99999</th>\n      <th>INCOME_AMT_50M+</th>\n      <th>INCOME_AMT_5M-10M</th>\n      <th>SPECIAL_CONSIDERATIONS_N</th>\n      <th>SPECIAL_CONSIDERATIONS_Y</th>\n    </tr>\n  </thead>\n  <tbody>\n    <tr>\n      <th>0</th>\n      <td>1</td>\n      <td>0</td>\n      <td>1</td>\n      <td>0</td>\n      <td>0</td>\n      <td>0</td>\n      <td>0</td>\n      <td>0</td>\n      <td>0</td>\n      <td>0</td>\n      <td>...</td>\n      <td>0</td>\n      <td>0</td>\n      <td>0</td>\n      <td>0</td>\n      <td>0</td>\n      <td>0</td>\n      <td>0</td>\n      <td>0</td>\n      <td>1</td>\n      <td>0</td>\n    </tr>\n    <tr>\n      <th>1</th>\n      <td>1</td>\n      <td>0</td>\n      <td>0</td>\n      <td>0</td>\n      <td>1</td>\n      <td>0</td>\n      <td>0</td>\n      <td>0</td>\n      <td>0</td>\n      <td>0</td>\n      <td>...</td>\n      <td>1</td>\n      <td>0</td>\n      <td>0</td>\n      <td>0</td>\n      <td>0</td>\n      <td>0</td>\n      <td>0</td>\n      <td>0</td>\n      <td>1</td>\n      <td>0</td>\n    </tr>\n    <tr>\n      <th>2</th>\n      <td>1</td>\n      <td>0</td>\n      <td>0</td>\n      <td>0</td>\n      <td>0</td>\n      <td>0</td>\n      <td>1</td>\n      <td>0</td>\n      <td>0</td>\n      <td>0</td>\n      <td>...</td>\n      <td>0</td>\n      <td>0</td>\n      <td>0</td>\n      <td>0</td>\n      <td>0</td>\n      <td>0</td>\n      <td>0</td>\n      <td>0</td>\n      <td>1</td>\n      <td>0</td>\n    </tr>\n    <tr>\n      <th>3</th>\n      <td>1</td>\n      <td>0</td>\n      <td>0</td>\n      <td>0</td>\n      <td>1</td>\n      <td>0</td>\n      <td>0</td>\n      <td>0</td>\n      <td>0</td>\n      <td>0</td>\n      <td>...</td>\n      <td>0</td>\n      <td>1</td>\n      <td>0</td>\n      <td>0</td>\n      <td>0</td>\n      <td>0</td>\n      <td>0</td>\n      <td>0</td>\n      <td>1</td>\n      <td>0</td>\n    </tr>\n    <tr>\n      <th>4</th>\n      <td>1</td>\n      <td>0</td>\n      <td>0</td>\n      <td>0</td>\n      <td>1</td>\n      <td>0</td>\n      <td>0</td>\n      <td>0</td>\n      <td>0</td>\n      <td>0</td>\n      <td>...</td>\n      <td>0</td>\n      <td>0</td>\n      <td>1</td>\n      <td>0</td>\n      <td>0</td>\n      <td>0</td>\n      <td>0</td>\n      <td>0</td>\n      <td>1</td>\n      <td>0</td>\n    </tr>\n  </tbody>\n</table>\n<p>5 rows × 36 columns</p>\n</div>"
     },
     "execution_count": 248,
     "metadata": {},
     "output_type": "execute_result"
    }
   ],
   "source": [
    "# Convert categorical data to numeric with `pd.get_dummies`\n",
    "dummies =pd.get_dummies(application_df)\n",
    "dummies.head()"
   ],
   "metadata": {
    "collapsed": false
   }
  },
  {
   "cell_type": "code",
   "execution_count": 251,
   "outputs": [],
   "source": [
    "newDF = pd.concat([dummies,ASK_AMT], axis=1)"
   ],
   "metadata": {
    "collapsed": false
   }
  },
  {
   "cell_type": "code",
   "execution_count": 252,
   "outputs": [],
   "source": [
    "# Split our preprocessed data into our features and target arrays\n",
    "x = newDF\n",
    "\n",
    "# Split the preprocessed data into a training and testing dataset\n",
    "X_train, X_test, Y_train, Y_test = train_test_split(x, y, random_state=42, test_size=0.2)\n",
    "# Create a StandardScaler instances\n",
    "scaler = StandardScaler()\n",
    "\n",
    "# Fit the StandardScaler\n",
    "X_scaler = scaler.fit(X_train)\n",
    "\n",
    "# Scale the data\n",
    "X_train_scaled = X_scaler.transform(X_train)\n",
    "X_test_scaled = X_scaler.transform(X_test)"
   ],
   "metadata": {
    "collapsed": false
   }
  },
  {
   "cell_type": "code",
   "execution_count": 253,
   "outputs": [
    {
     "data": {
      "text/plain": "(27439, 37)"
     },
     "execution_count": 253,
     "metadata": {},
     "output_type": "execute_result"
    }
   ],
   "source": [
    "X_train.shape"
   ],
   "metadata": {
    "collapsed": false
   }
  },
  {
   "cell_type": "code",
   "execution_count": 257,
   "outputs": [
    {
     "name": "stdout",
     "output_type": "stream",
     "text": [
      "Model: \"sequential_24\"\n",
      "_________________________________________________________________\n",
      " Layer (type)                Output Shape              Param #   \n",
      "=================================================================\n",
      " dense_117 (Dense)           (None, 256)               9728      \n",
      "                                                                 \n",
      " dense_118 (Dense)           (None, 128)               32896     \n",
      "                                                                 \n",
      " dense_119 (Dense)           (None, 64)                8256      \n",
      "                                                                 \n",
      " dense_120 (Dense)           (None, 32)                2080      \n",
      "                                                                 \n",
      " dense_121 (Dense)           (None, 16)                528       \n",
      "                                                                 \n",
      " dense_122 (Dense)           (None, 1)                 17        \n",
      "                                                                 \n",
      "=================================================================\n",
      "Total params: 53,505\n",
      "Trainable params: 53,505\n",
      "Non-trainable params: 0\n",
      "_________________________________________________________________\n"
     ]
    }
   ],
   "source": [
    "# Define the model - deep neural net, i.e., the number of input features and hidden nodes for each layer.\n",
    "\n",
    "nn = tf.keras.models.Sequential([\n",
    "    keras.layers.Dense(input_shape=(37,) ,units=256,activation='relu'),\n",
    "    keras.layers.Dense(units=128,activation='relu'),\n",
    "    keras.layers.Dense(units=64,activation='relu'),\n",
    "    keras.layers.Dense(units=32,activation='relu'),\n",
    "    keras.layers.Dense(units=16,activation='relu'),\n",
    "    keras.layers.Dense(units=1,activation='sigmoid'),\n",
    "])\n",
    "\n",
    "# Check the structure of the model\n",
    "nn.summary()"
   ],
   "metadata": {
    "collapsed": false
   }
  },
  {
   "cell_type": "markdown",
   "source": [],
   "metadata": {
    "collapsed": false
   }
  },
  {
   "cell_type": "code",
   "execution_count": 258,
   "outputs": [
    {
     "data": {
      "image/png": "[encoded data removed]",
      "text/plain": "<IPython.core.display.Image object>"
     },
     "execution_count": 258,
     "metadata": {},
     "output_type": "execute_result"
    }
   ],
   "source": [
    "keras.utils.plot_model(nn,\n",
    "                       show_shapes=True,\n",
    "                       show_dtype=True,\n",
    "                       show_layer_names=True,\n",
    "                       show_layer_activations=True)"
   ],
   "metadata": {
    "collapsed": false
   }
  },
  {
   "cell_type": "code",
   "execution_count": 259,
   "outputs": [
    {
     "name": "stdout",
     "output_type": "stream",
     "text": [
      "Epoch 1/100\n",
      "209/215 [============================>.] - ETA: 0s - loss: 0.5805 - accuracy: 0.7194  Saved model weights at epoch 0.\n",
      "215/215 [==============================] - 4s 10ms/step - loss: 0.5807 - accuracy: 0.7194 - val_loss: 0.5753 - val_accuracy: 0.7216\n",
      "Epoch 2/100\n",
      "215/215 [==============================] - 1s 5ms/step - loss: 0.5696 - accuracy: 0.7259 - val_loss: 0.5756 - val_accuracy: 0.7238\n",
      "Epoch 3/100\n",
      "215/215 [==============================] - 1s 5ms/step - loss: 0.5665 - accuracy: 0.7271 - val_loss: 0.5769 - val_accuracy: 0.7194\n",
      "Epoch 4/100\n",
      "215/215 [==============================] - 1s 5ms/step - loss: 0.5664 - accuracy: 0.7266 - val_loss: 0.5727 - val_accuracy: 0.7245\n",
      "Epoch 5/100\n",
      "215/215 [==============================] - 1s 5ms/step - loss: 0.5652 - accuracy: 0.7271 - val_loss: 0.5733 - val_accuracy: 0.7235\n",
      "Epoch 6/100\n",
      "214/215 [============================>.] - ETA: 0s - loss: 0.5652 - accuracy: 0.7282  Saved model weights at epoch 5.\n",
      "215/215 [==============================] - 1s 6ms/step - loss: 0.5651 - accuracy: 0.7283 - val_loss: 0.5742 - val_accuracy: 0.7243\n",
      "Epoch 7/100\n",
      "215/215 [==============================] - 1s 5ms/step - loss: 0.5643 - accuracy: 0.7292 - val_loss: 0.5756 - val_accuracy: 0.7211\n",
      "Epoch 8/100\n",
      "215/215 [==============================] - 1s 6ms/step - loss: 0.5644 - accuracy: 0.7284 - val_loss: 0.5769 - val_accuracy: 0.7213\n",
      "Epoch 9/100\n",
      "215/215 [==============================] - 1s 7ms/step - loss: 0.5643 - accuracy: 0.7278 - val_loss: 0.5742 - val_accuracy: 0.7248\n",
      "Epoch 10/100\n",
      "215/215 [==============================] - 1s 7ms/step - loss: 0.5629 - accuracy: 0.7291 - val_loss: 0.5752 - val_accuracy: 0.7191\n",
      "Epoch 11/100\n",
      "205/215 [===========================>..] - ETA: 0s - loss: 0.5633 - accuracy: 0.7293  Saved model weights at epoch 10.\n",
      "215/215 [==============================] - 1s 6ms/step - loss: 0.5634 - accuracy: 0.7292 - val_loss: 0.5722 - val_accuracy: 0.7235\n",
      "Epoch 12/100\n",
      "215/215 [==============================] - 1s 5ms/step - loss: 0.5633 - accuracy: 0.7290 - val_loss: 0.5727 - val_accuracy: 0.7194\n",
      "Epoch 13/100\n",
      "215/215 [==============================] - 1s 5ms/step - loss: 0.5628 - accuracy: 0.7293 - val_loss: 0.5738 - val_accuracy: 0.7220\n",
      "Epoch 14/100\n",
      "215/215 [==============================] - 1s 5ms/step - loss: 0.5626 - accuracy: 0.7297 - val_loss: 0.5726 - val_accuracy: 0.7210\n",
      "Epoch 15/100\n",
      "215/215 [==============================] - 1s 5ms/step - loss: 0.5624 - accuracy: 0.7301 - val_loss: 0.5743 - val_accuracy: 0.7200\n",
      "Epoch 16/100\n",
      "203/215 [===========================>..] - ETA: 0s - loss: 0.5622 - accuracy: 0.7279  Saved model weights at epoch 15.\n",
      "215/215 [==============================] - 1s 5ms/step - loss: 0.5626 - accuracy: 0.7275 - val_loss: 0.5730 - val_accuracy: 0.7208\n",
      "Epoch 17/100\n",
      "215/215 [==============================] - 1s 5ms/step - loss: 0.5624 - accuracy: 0.7285 - val_loss: 0.5738 - val_accuracy: 0.7213\n",
      "Epoch 18/100\n",
      "215/215 [==============================] - 1s 5ms/step - loss: 0.5623 - accuracy: 0.7306 - val_loss: 0.5744 - val_accuracy: 0.7233\n",
      "Epoch 19/100\n",
      "215/215 [==============================] - 1s 7ms/step - loss: 0.5622 - accuracy: 0.7291 - val_loss: 0.5742 - val_accuracy: 0.7200\n",
      "Epoch 20/100\n",
      "215/215 [==============================] - 1s 5ms/step - loss: 0.5620 - accuracy: 0.7298 - val_loss: 0.5767 - val_accuracy: 0.7249\n",
      "Epoch 21/100\n",
      "214/215 [============================>.] - ETA: 0s - loss: 0.5612 - accuracy: 0.7303  Saved model weights at epoch 20.\n",
      "215/215 [==============================] - 1s 7ms/step - loss: 0.5614 - accuracy: 0.7302 - val_loss: 0.5734 - val_accuracy: 0.7233\n",
      "Epoch 22/100\n",
      "215/215 [==============================] - 1s 5ms/step - loss: 0.5619 - accuracy: 0.7302 - val_loss: 0.5734 - val_accuracy: 0.7229\n",
      "Epoch 23/100\n",
      "215/215 [==============================] - 1s 5ms/step - loss: 0.5617 - accuracy: 0.7299 - val_loss: 0.5753 - val_accuracy: 0.7192\n",
      "Epoch 24/100\n",
      "215/215 [==============================] - 1s 5ms/step - loss: 0.5613 - accuracy: 0.7302 - val_loss: 0.5719 - val_accuracy: 0.7238\n",
      "Epoch 25/100\n",
      "215/215 [==============================] - 1s 5ms/step - loss: 0.5613 - accuracy: 0.7301 - val_loss: 0.5741 - val_accuracy: 0.7222\n",
      "Epoch 26/100\n",
      "202/215 [===========================>..] - ETA: 0s - loss: 0.5597 - accuracy: 0.7321  Saved model weights at epoch 25.\n",
      "215/215 [==============================] - 1s 7ms/step - loss: 0.5609 - accuracy: 0.7308 - val_loss: 0.5753 - val_accuracy: 0.7203\n",
      "Epoch 27/100\n",
      "215/215 [==============================] - 1s 5ms/step - loss: 0.5615 - accuracy: 0.7298 - val_loss: 0.5743 - val_accuracy: 0.7219\n",
      "Epoch 28/100\n",
      "215/215 [==============================] - 1s 5ms/step - loss: 0.5604 - accuracy: 0.7303 - val_loss: 0.5725 - val_accuracy: 0.7207\n",
      "Epoch 29/100\n",
      "215/215 [==============================] - 1s 5ms/step - loss: 0.5605 - accuracy: 0.7301 - val_loss: 0.5767 - val_accuracy: 0.7211\n",
      "Epoch 30/100\n",
      "215/215 [==============================] - 1s 5ms/step - loss: 0.5605 - accuracy: 0.7302 - val_loss: 0.5750 - val_accuracy: 0.7203\n",
      "Epoch 31/100\n",
      "211/215 [============================>.] - ETA: 0s - loss: 0.5609 - accuracy: 0.7303  Saved model weights at epoch 30.\n",
      "215/215 [==============================] - 1s 6ms/step - loss: 0.5608 - accuracy: 0.7303 - val_loss: 0.5731 - val_accuracy: 0.7222\n",
      "Epoch 32/100\n",
      "215/215 [==============================] - 1s 6ms/step - loss: 0.5605 - accuracy: 0.7313 - val_loss: 0.5746 - val_accuracy: 0.7214\n",
      "Epoch 33/100\n",
      "215/215 [==============================] - 1s 5ms/step - loss: 0.5602 - accuracy: 0.7297 - val_loss: 0.5736 - val_accuracy: 0.7214\n",
      "Epoch 34/100\n",
      "215/215 [==============================] - 1s 5ms/step - loss: 0.5603 - accuracy: 0.7296 - val_loss: 0.5735 - val_accuracy: 0.7217\n",
      "Epoch 35/100\n",
      "215/215 [==============================] - 1s 5ms/step - loss: 0.5600 - accuracy: 0.7314 - val_loss: 0.5748 - val_accuracy: 0.7198\n",
      "Epoch 36/100\n",
      "211/215 [============================>.] - ETA: 0s - loss: 0.5594 - accuracy: 0.7311  Saved model weights at epoch 35.\n",
      "215/215 [==============================] - 1s 6ms/step - loss: 0.5600 - accuracy: 0.7304 - val_loss: 0.5736 - val_accuracy: 0.7214\n",
      "Epoch 37/100\n",
      "215/215 [==============================] - 1s 5ms/step - loss: 0.5601 - accuracy: 0.7310 - val_loss: 0.5753 - val_accuracy: 0.7211\n",
      "Epoch 38/100\n",
      "215/215 [==============================] - 1s 5ms/step - loss: 0.5598 - accuracy: 0.7305 - val_loss: 0.5755 - val_accuracy: 0.7219\n",
      "Epoch 39/100\n",
      "215/215 [==============================] - 1s 5ms/step - loss: 0.5602 - accuracy: 0.7310 - val_loss: 0.5747 - val_accuracy: 0.7233\n",
      "Epoch 40/100\n",
      "215/215 [==============================] - 1s 5ms/step - loss: 0.5597 - accuracy: 0.7301 - val_loss: 0.5751 - val_accuracy: 0.7210\n",
      "Epoch 41/100\n",
      "206/215 [===========================>..] - ETA: 0s - loss: 0.5607 - accuracy: 0.7293  Saved model weights at epoch 40.\n",
      "215/215 [==============================] - 1s 6ms/step - loss: 0.5603 - accuracy: 0.7298 - val_loss: 0.5736 - val_accuracy: 0.7204\n",
      "Epoch 42/100\n",
      "215/215 [==============================] - 1s 5ms/step - loss: 0.5605 - accuracy: 0.7313 - val_loss: 0.5742 - val_accuracy: 0.7208\n",
      "Epoch 43/100\n",
      "215/215 [==============================] - 1s 5ms/step - loss: 0.5599 - accuracy: 0.7315 - val_loss: 0.5742 - val_accuracy: 0.7242\n",
      "Epoch 44/100\n",
      "215/215 [==============================] - 1s 5ms/step - loss: 0.5595 - accuracy: 0.7302 - val_loss: 0.5765 - val_accuracy: 0.7208\n",
      "Epoch 45/100\n",
      "215/215 [==============================] - 1s 5ms/step - loss: 0.5588 - accuracy: 0.7311 - val_loss: 0.5797 - val_accuracy: 0.7210\n",
      "Epoch 46/100\n",
      "213/215 [============================>.] - ETA: 0s - loss: 0.5596 - accuracy: 0.7311  Saved model weights at epoch 45.\n",
      "215/215 [==============================] - 1s 6ms/step - loss: 0.5594 - accuracy: 0.7312 - val_loss: 0.5768 - val_accuracy: 0.7223\n",
      "Epoch 47/100\n",
      "215/215 [==============================] - 2s 7ms/step - loss: 0.5589 - accuracy: 0.7311 - val_loss: 0.5749 - val_accuracy: 0.7222\n",
      "Epoch 48/100\n",
      "215/215 [==============================] - 2s 7ms/step - loss: 0.5590 - accuracy: 0.7312 - val_loss: 0.5781 - val_accuracy: 0.7217\n",
      "Epoch 49/100\n",
      "215/215 [==============================] - 1s 6ms/step - loss: 0.5591 - accuracy: 0.7307 - val_loss: 0.5787 - val_accuracy: 0.7224\n",
      "Epoch 50/100\n",
      "215/215 [==============================] - 1s 5ms/step - loss: 0.5589 - accuracy: 0.7312 - val_loss: 0.5779 - val_accuracy: 0.7207\n",
      "Epoch 51/100\n",
      "207/215 [===========================>..] - ETA: 0s - loss: 0.5592 - accuracy: 0.7310  Saved model weights at epoch 50.\n",
      "215/215 [==============================] - 1s 7ms/step - loss: 0.5593 - accuracy: 0.7311 - val_loss: 0.5772 - val_accuracy: 0.7222\n",
      "Epoch 52/100\n",
      "215/215 [==============================] - 1s 6ms/step - loss: 0.5590 - accuracy: 0.7307 - val_loss: 0.5768 - val_accuracy: 0.7224\n",
      "Epoch 53/100\n",
      "215/215 [==============================] - 1s 5ms/step - loss: 0.5588 - accuracy: 0.7308 - val_loss: 0.5810 - val_accuracy: 0.7211\n",
      "Epoch 54/100\n",
      "215/215 [==============================] - 1s 6ms/step - loss: 0.5589 - accuracy: 0.7310 - val_loss: 0.5771 - val_accuracy: 0.7219\n",
      "Epoch 55/100\n",
      "215/215 [==============================] - 1s 5ms/step - loss: 0.5586 - accuracy: 0.7306 - val_loss: 0.5785 - val_accuracy: 0.7203\n",
      "Epoch 56/100\n",
      "208/215 [============================>.] - ETA: 0s - loss: 0.5585 - accuracy: 0.7315  Saved model weights at epoch 55.\n",
      "215/215 [==============================] - 2s 7ms/step - loss: 0.5585 - accuracy: 0.7317 - val_loss: 0.5776 - val_accuracy: 0.7219\n",
      "Epoch 57/100\n",
      "215/215 [==============================] - 1s 5ms/step - loss: 0.5583 - accuracy: 0.7313 - val_loss: 0.5789 - val_accuracy: 0.7220\n",
      "Epoch 58/100\n",
      "215/215 [==============================] - 1s 5ms/step - loss: 0.5581 - accuracy: 0.7309 - val_loss: 0.5784 - val_accuracy: 0.7222\n",
      "Epoch 59/100\n",
      "215/215 [==============================] - 1s 6ms/step - loss: 0.5583 - accuracy: 0.7315 - val_loss: 0.5826 - val_accuracy: 0.7220\n",
      "Epoch 60/100\n",
      "215/215 [==============================] - 1s 6ms/step - loss: 0.5587 - accuracy: 0.7304 - val_loss: 0.5795 - val_accuracy: 0.7216\n",
      "Epoch 61/100\n",
      "212/215 [============================>.] - ETA: 0s - loss: 0.5586 - accuracy: 0.7310  Saved model weights at epoch 60.\n",
      "215/215 [==============================] - 1s 7ms/step - loss: 0.5584 - accuracy: 0.7310 - val_loss: 0.5818 - val_accuracy: 0.7229\n",
      "Epoch 62/100\n",
      "215/215 [==============================] - 2s 7ms/step - loss: 0.5579 - accuracy: 0.7308 - val_loss: 0.5853 - val_accuracy: 0.7216\n",
      "Epoch 63/100\n",
      "215/215 [==============================] - 1s 6ms/step - loss: 0.5580 - accuracy: 0.7309 - val_loss: 0.5819 - val_accuracy: 0.7227\n",
      "Epoch 64/100\n",
      "215/215 [==============================] - 1s 5ms/step - loss: 0.5581 - accuracy: 0.7314 - val_loss: 0.5822 - val_accuracy: 0.7223\n",
      "Epoch 65/100\n",
      "215/215 [==============================] - 1s 5ms/step - loss: 0.5580 - accuracy: 0.7313 - val_loss: 0.5845 - val_accuracy: 0.7230\n",
      "Epoch 66/100\n",
      "204/215 [===========================>..] - ETA: 0s - loss: 0.5582 - accuracy: 0.7312  Saved model weights at epoch 65.\n",
      "215/215 [==============================] - 1s 6ms/step - loss: 0.5582 - accuracy: 0.7308 - val_loss: 0.5857 - val_accuracy: 0.7223\n",
      "Epoch 67/100\n",
      "215/215 [==============================] - 1s 5ms/step - loss: 0.5581 - accuracy: 0.7315 - val_loss: 0.5828 - val_accuracy: 0.7224\n",
      "Epoch 68/100\n",
      "215/215 [==============================] - 1s 6ms/step - loss: 0.5578 - accuracy: 0.7312 - val_loss: 0.5818 - val_accuracy: 0.7214\n",
      "Epoch 69/100\n",
      "215/215 [==============================] - 1s 6ms/step - loss: 0.5583 - accuracy: 0.7311 - val_loss: 0.5855 - val_accuracy: 0.7217\n",
      "Epoch 70/100\n",
      "215/215 [==============================] - 1s 5ms/step - loss: 0.5580 - accuracy: 0.7305 - val_loss: 0.5864 - val_accuracy: 0.7208\n",
      "Epoch 71/100\n",
      "209/215 [============================>.] - ETA: 0s - loss: 0.5583 - accuracy: 0.7315  Saved model weights at epoch 70.\n",
      "215/215 [==============================] - 1s 6ms/step - loss: 0.5581 - accuracy: 0.7316 - val_loss: 0.5844 - val_accuracy: 0.7213\n",
      "Epoch 72/100\n",
      "215/215 [==============================] - 1s 6ms/step - loss: 0.5581 - accuracy: 0.7313 - val_loss: 0.5786 - val_accuracy: 0.7207\n",
      "Epoch 73/100\n",
      "215/215 [==============================] - 1s 4ms/step - loss: 0.5581 - accuracy: 0.7314 - val_loss: 0.5801 - val_accuracy: 0.7219\n",
      "Epoch 74/100\n",
      "215/215 [==============================] - 1s 5ms/step - loss: 0.5583 - accuracy: 0.7303 - val_loss: 0.5790 - val_accuracy: 0.7210\n",
      "Epoch 75/100\n",
      "215/215 [==============================] - 1s 5ms/step - loss: 0.5584 - accuracy: 0.7319 - val_loss: 0.5801 - val_accuracy: 0.7227\n",
      "Epoch 76/100\n",
      "204/215 [===========================>..] - ETA: 0s - loss: 0.5565 - accuracy: 0.7328  Saved model weights at epoch 75.\n",
      "215/215 [==============================] - 1s 6ms/step - loss: 0.5580 - accuracy: 0.7314 - val_loss: 0.5783 - val_accuracy: 0.7211\n",
      "Epoch 77/100\n",
      "215/215 [==============================] - 1s 5ms/step - loss: 0.5577 - accuracy: 0.7313 - val_loss: 0.5830 - val_accuracy: 0.7204\n",
      "Epoch 78/100\n",
      "215/215 [==============================] - 2s 7ms/step - loss: 0.5576 - accuracy: 0.7310 - val_loss: 0.5774 - val_accuracy: 0.7220\n",
      "Epoch 79/100\n",
      "215/215 [==============================] - 1s 6ms/step - loss: 0.5575 - accuracy: 0.7311 - val_loss: 0.5835 - val_accuracy: 0.7213\n",
      "Epoch 80/100\n",
      "215/215 [==============================] - 1s 5ms/step - loss: 0.5574 - accuracy: 0.7322 - val_loss: 0.5856 - val_accuracy: 0.7206\n",
      "Epoch 81/100\n",
      "210/215 [============================>.] - ETA: 0s - loss: 0.5574 - accuracy: 0.7315  Saved model weights at epoch 80.\n",
      "215/215 [==============================] - 1s 6ms/step - loss: 0.5577 - accuracy: 0.7313 - val_loss: 0.5873 - val_accuracy: 0.7222\n",
      "Epoch 82/100\n",
      "215/215 [==============================] - 1s 5ms/step - loss: 0.5572 - accuracy: 0.7317 - val_loss: 0.5858 - val_accuracy: 0.7214\n",
      "Epoch 83/100\n",
      "215/215 [==============================] - 1s 5ms/step - loss: 0.5575 - accuracy: 0.7317 - val_loss: 0.5852 - val_accuracy: 0.7226\n",
      "Epoch 84/100\n",
      "215/215 [==============================] - 1s 6ms/step - loss: 0.5571 - accuracy: 0.7318 - val_loss: 0.5859 - val_accuracy: 0.7223\n",
      "Epoch 85/100\n",
      "215/215 [==============================] - 1s 5ms/step - loss: 0.5573 - accuracy: 0.7313 - val_loss: 0.5851 - val_accuracy: 0.7217\n",
      "Epoch 86/100\n",
      "200/215 [==========================>...] - ETA: 0s - loss: 0.5570 - accuracy: 0.7326  Saved model weights at epoch 85.\n",
      "215/215 [==============================] - 1s 6ms/step - loss: 0.5575 - accuracy: 0.7318 - val_loss: 0.5842 - val_accuracy: 0.7223\n",
      "Epoch 87/100\n",
      "215/215 [==============================] - 1s 5ms/step - loss: 0.5571 - accuracy: 0.7315 - val_loss: 0.5842 - val_accuracy: 0.7216\n",
      "Epoch 88/100\n",
      "215/215 [==============================] - 1s 4ms/step - loss: 0.5575 - accuracy: 0.7315 - val_loss: 0.5790 - val_accuracy: 0.7207\n",
      "Epoch 89/100\n",
      "215/215 [==============================] - 1s 4ms/step - loss: 0.5578 - accuracy: 0.7306 - val_loss: 0.5820 - val_accuracy: 0.7204\n",
      "Epoch 90/100\n",
      "215/215 [==============================] - 1s 5ms/step - loss: 0.5575 - accuracy: 0.7310 - val_loss: 0.5855 - val_accuracy: 0.7217\n",
      "Epoch 91/100\n",
      "203/215 [===========================>..] - ETA: 0s - loss: 0.5575 - accuracy: 0.7317  Saved model weights at epoch 90.\n",
      "215/215 [==============================] - 1s 6ms/step - loss: 0.5577 - accuracy: 0.7313 - val_loss: 0.5842 - val_accuracy: 0.7223\n",
      "Epoch 92/100\n",
      "215/215 [==============================] - 1s 5ms/step - loss: 0.5571 - accuracy: 0.7315 - val_loss: 0.5856 - val_accuracy: 0.7200\n",
      "Epoch 93/100\n",
      "215/215 [==============================] - 1s 5ms/step - loss: 0.5572 - accuracy: 0.7312 - val_loss: 0.5852 - val_accuracy: 0.7214\n",
      "Epoch 94/100\n",
      "215/215 [==============================] - 1s 5ms/step - loss: 0.5579 - accuracy: 0.7305 - val_loss: 0.5878 - val_accuracy: 0.7230\n",
      "Epoch 95/100\n",
      "215/215 [==============================] - 1s 5ms/step - loss: 0.5573 - accuracy: 0.7320 - val_loss: 0.5810 - val_accuracy: 0.7210\n",
      "Epoch 96/100\n",
      "202/215 [===========================>..] - ETA: 0s - loss: 0.5582 - accuracy: 0.7314  Saved model weights at epoch 95.\n",
      "215/215 [==============================] - 1s 5ms/step - loss: 0.5573 - accuracy: 0.7318 - val_loss: 0.5857 - val_accuracy: 0.7222\n",
      "Epoch 97/100\n",
      "215/215 [==============================] - 1s 5ms/step - loss: 0.5570 - accuracy: 0.7310 - val_loss: 0.5857 - val_accuracy: 0.7206\n",
      "Epoch 98/100\n",
      "215/215 [==============================] - 1s 5ms/step - loss: 0.5572 - accuracy: 0.7318 - val_loss: 0.5868 - val_accuracy: 0.7206\n",
      "Epoch 99/100\n",
      "215/215 [==============================] - 1s 5ms/step - loss: 0.5573 - accuracy: 0.7314 - val_loss: 0.5795 - val_accuracy: 0.7197\n",
      "Epoch 100/100\n",
      "215/215 [==============================] - 1s 5ms/step - loss: 0.5570 - accuracy: 0.7320 - val_loss: 0.5870 - val_accuracy: 0.7214\n"
     ]
    }
   ],
   "source": [
    "class SaveWeightsCallback(tf.keras.callbacks.Callback):\n",
    "    def on_epoch_end(self, epoch, logs=None):\n",
    "        if epoch % 5 == 0:\n",
    "            self.model.save_weights('model_weights.h5')\n",
    "            print(f'  Saved model weights at epoch {epoch}.')\n",
    "\n",
    "\n",
    "# Compile the model\n",
    "nn.compile(\n",
    "    optimizer='adam',\n",
    "    metrics=['accuracy'],\n",
    "    loss='binary_crossentropy'\n",
    ")\n",
    "# Train the model\n",
    "history = nn.fit(X_train_scaled, Y_train, epochs=100, validation_data=(X_test_scaled, Y_test), batch_size=128,\n",
    "                 callbacks=[SaveWeightsCallback()])"
   ],
   "metadata": {
    "collapsed": false
   }
  },
  {
   "cell_type": "code",
   "execution_count": 260,
   "outputs": [
    {
     "name": "stdout",
     "output_type": "stream",
     "text": [
      "215/215 - 0s - loss: 0.5870 - accuracy: 0.7214 - 408ms/epoch - 2ms/step\n",
      "Loss: 0.5870051383972168, Accuracy: 0.7214285731315613\n"
     ]
    }
   ],
   "source": [
    "# Evaluate the model using the test data\n",
    "model_loss, model_accuracy = nn.evaluate(X_test_scaled,Y_test,verbose=2)\n",
    "print(f\"Loss: {model_loss}, Accuracy: {model_accuracy}\")"
   ],
   "metadata": {
    "collapsed": false
   }
  },
  {
   "cell_type": "markdown",
   "source": [
    "# ATTEMPT 3"
   ],
   "metadata": {
    "collapsed": false
   }
  },
  {
   "cell_type": "code",
   "execution_count": 262,
   "outputs": [
    {
     "data": {
      "text/plain": "EIN                       34299\nNAME                      19568\nAPPLICATION_TYPE             17\nAFFILIATION                   6\nCLASSIFICATION               71\nUSE_CASE                      5\nORGANIZATION                  4\nSTATUS                        2\nINCOME_AMT                    9\nSPECIAL_CONSIDERATIONS        2\nASK_AMT                    8747\nIS_SUCCESSFUL                 2\ndtype: int64"
     },
     "execution_count": 262,
     "metadata": {},
     "output_type": "execute_result"
    }
   ],
   "source": [
    "application_df.nunique()"
   ],
   "metadata": {
    "collapsed": false
   }
  },
  {
   "cell_type": "markdown",
   "source": [
    "# Drop the non-beneficial ID columns, 'EIN' and 'NAME'."
   ],
   "metadata": {
    "collapsed": false
   }
  },
  {
   "cell_type": "code",
   "execution_count": 263,
   "outputs": [
    {
     "data": {
      "text/plain": "0            5000\n1          108590\n2            5000\n3            6692\n4          142590\n           ...   \n34294        5000\n34295        5000\n34296        5000\n34297        5000\n34298    36500179\nName: ASK_AMT, Length: 34299, dtype: int64"
     },
     "execution_count": 263,
     "metadata": {},
     "output_type": "execute_result"
    }
   ],
   "source": [
    "ASK_AMT = application_df['ASK_AMT']\n",
    "ASK_AMT"
   ],
   "metadata": {
    "collapsed": false
   }
  },
  {
   "cell_type": "code",
   "execution_count": 264,
   "outputs": [
    {
     "data": {
      "text/plain": "0        1\n1        1\n2        0\n3        1\n4        1\n        ..\n34294    0\n34295    0\n34296    0\n34297    1\n34298    0\nName: IS_SUCCESSFUL, Length: 34299, dtype: int64"
     },
     "execution_count": 264,
     "metadata": {},
     "output_type": "execute_result"
    }
   ],
   "source": [
    "y = application_df['IS_SUCCESSFUL']\n",
    "y"
   ],
   "metadata": {
    "collapsed": false
   }
  },
  {
   "cell_type": "code",
   "execution_count": 265,
   "outputs": [
    {
     "data": {
      "text/plain": "  APPLICATION_TYPE       AFFILIATION CLASSIFICATION      USE_CASE  \\\n0              T10       Independent          C1000    ProductDev   \n1               T3       Independent          C2000  Preservation   \n2               T5  CompanySponsored          C3000    ProductDev   \n3               T3  CompanySponsored          C2000  Preservation   \n4               T3       Independent          C1000     Heathcare   \n\n   ORGANIZATION  STATUS     INCOME_AMT SPECIAL_CONSIDERATIONS  \n0   Association       1              0                      N  \n1  Co-operative       1         1-9999                      N  \n2   Association       1              0                      N  \n3         Trust       1    10000-24999                      N  \n4         Trust       1  100000-499999                      N  ",
      "text/html": "<div>\n<style scoped>\n    .dataframe tbody tr th:only-of-type {\n        vertical-align: middle;\n    }\n\n    .dataframe tbody tr th {\n        vertical-align: top;\n    }\n\n    .dataframe thead th {\n        text-align: right;\n    }\n</style>\n<table border=\"1\" class=\"dataframe\">\n  <thead>\n    <tr style=\"text-align: right;\">\n      <th></th>\n      <th>APPLICATION_TYPE</th>\n      <th>AFFILIATION</th>\n      <th>CLASSIFICATION</th>\n      <th>USE_CASE</th>\n      <th>ORGANIZATION</th>\n      <th>STATUS</th>\n      <th>INCOME_AMT</th>\n      <th>SPECIAL_CONSIDERATIONS</th>\n    </tr>\n  </thead>\n  <tbody>\n    <tr>\n      <th>0</th>\n      <td>T10</td>\n      <td>Independent</td>\n      <td>C1000</td>\n      <td>ProductDev</td>\n      <td>Association</td>\n      <td>1</td>\n      <td>0</td>\n      <td>N</td>\n    </tr>\n    <tr>\n      <th>1</th>\n      <td>T3</td>\n      <td>Independent</td>\n      <td>C2000</td>\n      <td>Preservation</td>\n      <td>Co-operative</td>\n      <td>1</td>\n      <td>1-9999</td>\n      <td>N</td>\n    </tr>\n    <tr>\n      <th>2</th>\n      <td>T5</td>\n      <td>CompanySponsored</td>\n      <td>C3000</td>\n      <td>ProductDev</td>\n      <td>Association</td>\n      <td>1</td>\n      <td>0</td>\n      <td>N</td>\n    </tr>\n    <tr>\n      <th>3</th>\n      <td>T3</td>\n      <td>CompanySponsored</td>\n      <td>C2000</td>\n      <td>Preservation</td>\n      <td>Trust</td>\n      <td>1</td>\n      <td>10000-24999</td>\n      <td>N</td>\n    </tr>\n    <tr>\n      <th>4</th>\n      <td>T3</td>\n      <td>Independent</td>\n      <td>C1000</td>\n      <td>Heathcare</td>\n      <td>Trust</td>\n      <td>1</td>\n      <td>100000-499999</td>\n      <td>N</td>\n    </tr>\n  </tbody>\n</table>\n</div>"
     },
     "execution_count": 265,
     "metadata": {},
     "output_type": "execute_result"
    }
   ],
   "source": [
    "application_df=application_df.drop(['EIN','NAME','ASK_AMT' ,'IS_SUCCESSFUL'],axis=1)\n",
    "application_df.head()"
   ],
   "metadata": {
    "collapsed": false
   }
  },
  {
   "cell_type": "code",
   "execution_count": 266,
   "outputs": [],
   "source": [
    "encoder = LabelEncoder()"
   ],
   "metadata": {
    "collapsed": false
   }
  },
  {
   "cell_type": "code",
   "execution_count": 267,
   "outputs": [],
   "source": [
    "for i in application_df.columns:\n",
    "    application_df[i] = encoder.fit_transform(application_df[i])"
   ],
   "metadata": {
    "collapsed": false
   }
  },
  {
   "cell_type": "code",
   "execution_count": 268,
   "outputs": [
    {
     "data": {
      "text/plain": "       APPLICATION_TYPE  AFFILIATION  CLASSIFICATION  USE_CASE  ORGANIZATION  \\\n0                     0            2               1         4             0   \n1                    10            2              36         3             1   \n2                    12            0              51         4             0   \n3                    10            0              36         3             3   \n4                    10            2               1         1             3   \n...                 ...          ...             ...       ...           ...   \n34294                11            2               1         4             0   \n34295                11            0              51         4             0   \n34296                10            0              36         3             0   \n34297                12            2              51         4             0   \n34298                10            2               1         3             1   \n\n       STATUS  INCOME_AMT  SPECIAL_CONSIDERATIONS  \n0           1           0                       0  \n1           1           1                       0  \n2           1           0                       0  \n3           1           2                       0  \n4           1           3                       0  \n...       ...         ...                     ...  \n34294       1           0                       0  \n34295       1           0                       0  \n34296       1           0                       0  \n34297       1           0                       0  \n34298       1           5                       0  \n\n[34299 rows x 8 columns]",
      "text/html": "<div>\n<style scoped>\n    .dataframe tbody tr th:only-of-type {\n        vertical-align: middle;\n    }\n\n    .dataframe tbody tr th {\n        vertical-align: top;\n    }\n\n    .dataframe thead th {\n        text-align: right;\n    }\n</style>\n<table border=\"1\" class=\"dataframe\">\n  <thead>\n    <tr style=\"text-align: right;\">\n      <th></th>\n      <th>APPLICATION_TYPE</th>\n      <th>AFFILIATION</th>\n      <th>CLASSIFICATION</th>\n      <th>USE_CASE</th>\n      <th>ORGANIZATION</th>\n      <th>STATUS</th>\n      <th>INCOME_AMT</th>\n      <th>SPECIAL_CONSIDERATIONS</th>\n    </tr>\n  </thead>\n  <tbody>\n    <tr>\n      <th>0</th>\n      <td>0</td>\n      <td>2</td>\n      <td>1</td>\n      <td>4</td>\n      <td>0</td>\n      <td>1</td>\n      <td>0</td>\n      <td>0</td>\n    </tr>\n    <tr>\n      <th>1</th>\n      <td>10</td>\n      <td>2</td>\n      <td>36</td>\n      <td>3</td>\n      <td>1</td>\n      <td>1</td>\n      <td>1</td>\n      <td>0</td>\n    </tr>\n    <tr>\n      <th>2</th>\n      <td>12</td>\n      <td>0</td>\n      <td>51</td>\n      <td>4</td>\n      <td>0</td>\n      <td>1</td>\n      <td>0</td>\n      <td>0</td>\n    </tr>\n    <tr>\n      <th>3</th>\n      <td>10</td>\n      <td>0</td>\n      <td>36</td>\n      <td>3</td>\n      <td>3</td>\n      <td>1</td>\n      <td>2</td>\n      <td>0</td>\n    </tr>\n    <tr>\n      <th>4</th>\n      <td>10</td>\n      <td>2</td>\n      <td>1</td>\n      <td>1</td>\n      <td>3</td>\n      <td>1</td>\n      <td>3</td>\n      <td>0</td>\n    </tr>\n    <tr>\n      <th>...</th>\n      <td>...</td>\n      <td>...</td>\n      <td>...</td>\n      <td>...</td>\n      <td>...</td>\n      <td>...</td>\n      <td>...</td>\n      <td>...</td>\n    </tr>\n    <tr>\n      <th>34294</th>\n      <td>11</td>\n      <td>2</td>\n      <td>1</td>\n      <td>4</td>\n      <td>0</td>\n      <td>1</td>\n      <td>0</td>\n      <td>0</td>\n    </tr>\n    <tr>\n      <th>34295</th>\n      <td>11</td>\n      <td>0</td>\n      <td>51</td>\n      <td>4</td>\n      <td>0</td>\n      <td>1</td>\n      <td>0</td>\n      <td>0</td>\n    </tr>\n    <tr>\n      <th>34296</th>\n      <td>10</td>\n      <td>0</td>\n      <td>36</td>\n      <td>3</td>\n      <td>0</td>\n      <td>1</td>\n      <td>0</td>\n      <td>0</td>\n    </tr>\n    <tr>\n      <th>34297</th>\n      <td>12</td>\n      <td>2</td>\n      <td>51</td>\n      <td>4</td>\n      <td>0</td>\n      <td>1</td>\n      <td>0</td>\n      <td>0</td>\n    </tr>\n    <tr>\n      <th>34298</th>\n      <td>10</td>\n      <td>2</td>\n      <td>1</td>\n      <td>3</td>\n      <td>1</td>\n      <td>1</td>\n      <td>5</td>\n      <td>0</td>\n    </tr>\n  </tbody>\n</table>\n<p>34299 rows × 8 columns</p>\n</div>"
     },
     "execution_count": 268,
     "metadata": {},
     "output_type": "execute_result"
    }
   ],
   "source": [
    "application_df"
   ],
   "metadata": {
    "collapsed": false
   }
  },
  {
   "cell_type": "code",
   "execution_count": 269,
   "outputs": [],
   "source": [
    "newDF = pd.concat([application_df,ASK_AMT], axis=1)"
   ],
   "metadata": {
    "collapsed": false
   }
  },
  {
   "cell_type": "code",
   "execution_count": 270,
   "outputs": [],
   "source": [
    "# Split our preprocessed data into our features and target arrays\n",
    "x= newDF\n",
    "\n",
    "\n",
    "# Split the preprocessed data into a training and testing dataset\n",
    "X_train, X_test, Y_train, Y_test = train_test_split(x,y,random_state=42,test_size=0.2)"
   ],
   "metadata": {
    "collapsed": false
   }
  },
  {
   "cell_type": "code",
   "execution_count": 271,
   "outputs": [],
   "source": [
    "# Create a StandardScaler instances\n",
    "scaler = StandardScaler()\n",
    "\n",
    "# Fit the StandardScaler\n",
    "X_scaler = scaler.fit(X_train)\n",
    "\n",
    "# Scale the data\n",
    "X_train_scaled = X_scaler.transform(X_train)\n",
    "X_test_scaled = X_scaler.transform(X_test)"
   ],
   "metadata": {
    "collapsed": false
   }
  },
  {
   "cell_type": "code",
   "execution_count": 272,
   "outputs": [
    {
     "data": {
      "text/plain": "       APPLICATION_TYPE  AFFILIATION  CLASSIFICATION  USE_CASE  ORGANIZATION  \\\n31183                10            2               2         3             3   \n15770                10            2               1         3             3   \n21523                10            0               1         3             3   \n13573                10            2               1         3             3   \n20380                11            0              51         4             0   \n...                 ...          ...             ...       ...           ...   \n16850                10            2               1         3             3   \n6265                 10            2              51         3             3   \n11284                10            2               2         3             3   \n860                  10            0               1         3             0   \n15795                10            2               1         3             3   \n\n       STATUS  INCOME_AMT  SPECIAL_CONSIDERATIONS  ASK_AMT  \n31183       1           0                       0     5000  \n15770       1           0                       0     5000  \n21523       1           0                       0     5000  \n13573       1           0                       0     5000  \n20380       1           0                       0     5000  \n...       ...         ...                     ...      ...  \n16850       1           6                       0   333518  \n6265        1           0                       0     5000  \n11284       1           0                       0     5000  \n860         1           0                       0     5000  \n15795       1           0                       0     5000  \n\n[27439 rows x 9 columns]",
      "text/html": "<div>\n<style scoped>\n    .dataframe tbody tr th:only-of-type {\n        vertical-align: middle;\n    }\n\n    .dataframe tbody tr th {\n        vertical-align: top;\n    }\n\n    .dataframe thead th {\n        text-align: right;\n    }\n</style>\n<table border=\"1\" class=\"dataframe\">\n  <thead>\n    <tr style=\"text-align: right;\">\n      <th></th>\n      <th>APPLICATION_TYPE</th>\n      <th>AFFILIATION</th>\n      <th>CLASSIFICATION</th>\n      <th>USE_CASE</th>\n      <th>ORGANIZATION</th>\n      <th>STATUS</th>\n      <th>INCOME_AMT</th>\n      <th>SPECIAL_CONSIDERATIONS</th>\n      <th>ASK_AMT</th>\n    </tr>\n  </thead>\n  <tbody>\n    <tr>\n      <th>31183</th>\n      <td>10</td>\n      <td>2</td>\n      <td>2</td>\n      <td>3</td>\n      <td>3</td>\n      <td>1</td>\n      <td>0</td>\n      <td>0</td>\n      <td>5000</td>\n    </tr>\n    <tr>\n      <th>15770</th>\n      <td>10</td>\n      <td>2</td>\n      <td>1</td>\n      <td>3</td>\n      <td>3</td>\n      <td>1</td>\n      <td>0</td>\n      <td>0</td>\n      <td>5000</td>\n    </tr>\n    <tr>\n      <th>21523</th>\n      <td>10</td>\n      <td>0</td>\n      <td>1</td>\n      <td>3</td>\n      <td>3</td>\n      <td>1</td>\n      <td>0</td>\n      <td>0</td>\n      <td>5000</td>\n    </tr>\n    <tr>\n      <th>13573</th>\n      <td>10</td>\n      <td>2</td>\n      <td>1</td>\n      <td>3</td>\n      <td>3</td>\n      <td>1</td>\n      <td>0</td>\n      <td>0</td>\n      <td>5000</td>\n    </tr>\n    <tr>\n      <th>20380</th>\n      <td>11</td>\n      <td>0</td>\n      <td>51</td>\n      <td>4</td>\n      <td>0</td>\n      <td>1</td>\n      <td>0</td>\n      <td>0</td>\n      <td>5000</td>\n    </tr>\n    <tr>\n      <th>...</th>\n      <td>...</td>\n      <td>...</td>\n      <td>...</td>\n      <td>...</td>\n      <td>...</td>\n      <td>...</td>\n      <td>...</td>\n      <td>...</td>\n      <td>...</td>\n    </tr>\n    <tr>\n      <th>16850</th>\n      <td>10</td>\n      <td>2</td>\n      <td>1</td>\n      <td>3</td>\n      <td>3</td>\n      <td>1</td>\n      <td>6</td>\n      <td>0</td>\n      <td>333518</td>\n    </tr>\n    <tr>\n      <th>6265</th>\n      <td>10</td>\n      <td>2</td>\n      <td>51</td>\n      <td>3</td>\n      <td>3</td>\n      <td>1</td>\n      <td>0</td>\n      <td>0</td>\n      <td>5000</td>\n    </tr>\n    <tr>\n      <th>11284</th>\n      <td>10</td>\n      <td>2</td>\n      <td>2</td>\n      <td>3</td>\n      <td>3</td>\n      <td>1</td>\n      <td>0</td>\n      <td>0</td>\n      <td>5000</td>\n    </tr>\n    <tr>\n      <th>860</th>\n      <td>10</td>\n      <td>0</td>\n      <td>1</td>\n      <td>3</td>\n      <td>0</td>\n      <td>1</td>\n      <td>0</td>\n      <td>0</td>\n      <td>5000</td>\n    </tr>\n    <tr>\n      <th>15795</th>\n      <td>10</td>\n      <td>2</td>\n      <td>1</td>\n      <td>3</td>\n      <td>3</td>\n      <td>1</td>\n      <td>0</td>\n      <td>0</td>\n      <td>5000</td>\n    </tr>\n  </tbody>\n</table>\n<p>27439 rows × 9 columns</p>\n</div>"
     },
     "execution_count": 272,
     "metadata": {},
     "output_type": "execute_result"
    }
   ],
   "source": [
    "X_train"
   ],
   "metadata": {
    "collapsed": false
   }
  },
  {
   "cell_type": "code",
   "execution_count": 273,
   "outputs": [
    {
     "data": {
      "text/plain": "array([[-0.06828975,  0.91525   , -0.66759382, ..., -0.57094959,\n        -0.02832705, -0.03115182],\n       [-0.06828975,  0.91525   , -0.71814661, ..., -0.57094959,\n        -0.02832705, -0.03115182],\n       [-0.06828975, -1.08471375, -0.71814661, ..., -0.57094959,\n        -0.02832705, -0.03115182],\n       ...,\n       [-0.06828975,  0.91525   , -0.66759382, ..., -0.57094959,\n        -0.02832705, -0.03115182],\n       [-0.06828975, -1.08471375, -0.71814661, ..., -0.57094959,\n        -0.02832705, -0.03115182],\n       [-0.06828975,  0.91525   , -0.71814661, ..., -0.57094959,\n        -0.02832705, -0.03115182]])"
     },
     "execution_count": 273,
     "metadata": {},
     "output_type": "execute_result"
    }
   ],
   "source": [
    "X_train_scaled"
   ],
   "metadata": {
    "collapsed": false
   }
  },
  {
   "cell_type": "code",
   "execution_count": 274,
   "outputs": [
    {
     "data": {
      "text/plain": "(27439, 9)"
     },
     "execution_count": 274,
     "metadata": {},
     "output_type": "execute_result"
    }
   ],
   "source": [
    "X_train.shape"
   ],
   "metadata": {
    "collapsed": false
   }
  },
  {
   "cell_type": "code",
   "execution_count": 275,
   "outputs": [
    {
     "name": "stdout",
     "output_type": "stream",
     "text": [
      "Model: \"sequential_25\"\n",
      "_________________________________________________________________\n",
      " Layer (type)                Output Shape              Param #   \n",
      "=================================================================\n",
      " dense_123 (Dense)           (None, 512)               5120      \n",
      "                                                                 \n",
      " dense_124 (Dense)           (None, 256)               131328    \n",
      "                                                                 \n",
      " dense_125 (Dense)           (None, 256)               65792     \n",
      "                                                                 \n",
      " dense_126 (Dense)           (None, 128)               32896     \n",
      "                                                                 \n",
      " dense_127 (Dense)           (None, 1)                 129       \n",
      "                                                                 \n",
      "=================================================================\n",
      "Total params: 235,265\n",
      "Trainable params: 235,265\n",
      "Non-trainable params: 0\n",
      "_________________________________________________________________\n"
     ]
    }
   ],
   "source": [
    "# Define the model - deep neural net, i.e., the number of input features and hidden nodes for each layer.\n",
    "\n",
    "nn = tf.keras.models.Sequential([\n",
    "    keras.layers.Dense(input_shape=(9,) ,units=512,activation='tanh'),\n",
    "    keras.layers.Dense(units=256,activation='relu'),\n",
    "    keras.layers.Dense(units=256,activation='relu'),\n",
    "    keras.layers.Dense(units=128,activation='relu'),\n",
    "    keras.layers.Dense(units=1,activation='sigmoid'),\n",
    "])\n",
    "\n",
    "# Check the structure of the model\n",
    "nn.summary()"
   ],
   "metadata": {
    "collapsed": false
   }
  },
  {
   "cell_type": "code",
   "execution_count": 276,
   "outputs": [
    {
     "data": {
      "image/png": "[encoded data removed]",
      "text/plain": "<IPython.core.display.Image object>"
     },
     "execution_count": 276,
     "metadata": {},
     "output_type": "execute_result"
    }
   ],
   "source": [
    "keras.utils.plot_model(nn,\n",
    "                       show_shapes=True,\n",
    "                       show_dtype=True,\n",
    "                       show_layer_names=True,\n",
    "                       show_layer_activations=True)"
   ],
   "metadata": {
    "collapsed": false
   }
  },
  {
   "cell_type": "code",
   "execution_count": 277,
   "outputs": [],
   "source": [
    "class SaveWeightsCallback(tf.keras.callbacks.Callback):\n",
    "    def on_epoch_end(self, epoch, logs=None):\n",
    "        if epoch % 5 == 0:\n",
    "            self.model.save_weights('model_weights.h5')\n",
    "            print(f'  Saved model weights at epoch {epoch}.')"
   ],
   "metadata": {
    "collapsed": false
   }
  },
  {
   "cell_type": "code",
   "execution_count": 278,
   "outputs": [],
   "source": [
    "# Compile the model\n",
    "nn.compile(\n",
    "    optimizer='adam',\n",
    "    metrics=['accuracy'],\n",
    "    loss='binary_crossentropy'\n",
    ")"
   ],
   "metadata": {
    "collapsed": false
   }
  },
  {
   "cell_type": "code",
   "execution_count": 279,
   "outputs": [
    {
     "name": "stdout",
     "output_type": "stream",
     "text": [
      "Epoch 1/100\n",
      "214/215 [============================>.] - ETA: 0s - loss: 0.5863 - accuracy: 0.7146  Saved model weights at epoch 0.\n",
      "215/215 [==============================] - 5s 14ms/step - loss: 0.5863 - accuracy: 0.7146 - val_loss: 0.5743 - val_accuracy: 0.7204\n",
      "Epoch 2/100\n",
      "215/215 [==============================] - 2s 11ms/step - loss: 0.5718 - accuracy: 0.7238 - val_loss: 0.5803 - val_accuracy: 0.7217\n",
      "Epoch 3/100\n",
      "215/215 [==============================] - 2s 10ms/step - loss: 0.5685 - accuracy: 0.7220 - val_loss: 0.5746 - val_accuracy: 0.7200\n",
      "Epoch 4/100\n",
      "215/215 [==============================] - 2s 9ms/step - loss: 0.5672 - accuracy: 0.7235 - val_loss: 0.5750 - val_accuracy: 0.7197\n",
      "Epoch 5/100\n",
      "215/215 [==============================] - 2s 9ms/step - loss: 0.5657 - accuracy: 0.7254 - val_loss: 0.5734 - val_accuracy: 0.7157\n",
      "Epoch 6/100\n",
      "213/215 [============================>.] - ETA: 0s - loss: 0.5642 - accuracy: 0.7259  Saved model weights at epoch 5.\n",
      "215/215 [==============================] - 2s 9ms/step - loss: 0.5642 - accuracy: 0.7260 - val_loss: 0.5756 - val_accuracy: 0.7171\n",
      "Epoch 7/100\n",
      "215/215 [==============================] - 2s 10ms/step - loss: 0.5641 - accuracy: 0.7258 - val_loss: 0.5739 - val_accuracy: 0.7188\n",
      "Epoch 8/100\n",
      "215/215 [==============================] - 2s 10ms/step - loss: 0.5635 - accuracy: 0.7263 - val_loss: 0.5743 - val_accuracy: 0.7219\n",
      "Epoch 9/100\n",
      "215/215 [==============================] - 2s 9ms/step - loss: 0.5630 - accuracy: 0.7275 - val_loss: 0.5744 - val_accuracy: 0.7229\n",
      "Epoch 10/100\n",
      "215/215 [==============================] - 2s 9ms/step - loss: 0.5628 - accuracy: 0.7270 - val_loss: 0.5708 - val_accuracy: 0.7214\n",
      "Epoch 11/100\n",
      "215/215 [==============================] - ETA: 0s - loss: 0.5621 - accuracy: 0.7271  Saved model weights at epoch 10.\n",
      "215/215 [==============================] - 2s 11ms/step - loss: 0.5621 - accuracy: 0.7271 - val_loss: 0.5699 - val_accuracy: 0.7220\n",
      "Epoch 12/100\n",
      "215/215 [==============================] - 2s 10ms/step - loss: 0.5612 - accuracy: 0.7278 - val_loss: 0.5709 - val_accuracy: 0.7245\n",
      "Epoch 13/100\n",
      "215/215 [==============================] - 2s 10ms/step - loss: 0.5609 - accuracy: 0.7300 - val_loss: 0.5758 - val_accuracy: 0.7241\n",
      "Epoch 14/100\n",
      "215/215 [==============================] - 2s 10ms/step - loss: 0.5601 - accuracy: 0.7285 - val_loss: 0.5738 - val_accuracy: 0.7226\n",
      "Epoch 15/100\n",
      "215/215 [==============================] - 2s 10ms/step - loss: 0.5605 - accuracy: 0.7286 - val_loss: 0.5664 - val_accuracy: 0.7235\n",
      "Epoch 16/100\n",
      "210/215 [============================>.] - ETA: 0s - loss: 0.5595 - accuracy: 0.7292  Saved model weights at epoch 15.\n",
      "215/215 [==============================] - 2s 11ms/step - loss: 0.5596 - accuracy: 0.7290 - val_loss: 0.5680 - val_accuracy: 0.7246\n",
      "Epoch 17/100\n",
      "215/215 [==============================] - 2s 9ms/step - loss: 0.5587 - accuracy: 0.7297 - val_loss: 0.5706 - val_accuracy: 0.7264\n",
      "Epoch 18/100\n",
      "215/215 [==============================] - 2s 9ms/step - loss: 0.5589 - accuracy: 0.7304 - val_loss: 0.5682 - val_accuracy: 0.7213\n",
      "Epoch 19/100\n",
      "215/215 [==============================] - 2s 10ms/step - loss: 0.5581 - accuracy: 0.7302 - val_loss: 0.5730 - val_accuracy: 0.7204\n",
      "Epoch 20/100\n",
      "215/215 [==============================] - 2s 9ms/step - loss: 0.5576 - accuracy: 0.7287 - val_loss: 0.5679 - val_accuracy: 0.7254\n",
      "Epoch 21/100\n",
      "211/215 [============================>.] - ETA: 0s - loss: 0.5570 - accuracy: 0.7317  Saved model weights at epoch 20.\n",
      "215/215 [==============================] - 2s 9ms/step - loss: 0.5574 - accuracy: 0.7312 - val_loss: 0.5702 - val_accuracy: 0.7254\n",
      "Epoch 22/100\n",
      "215/215 [==============================] - 2s 8ms/step - loss: 0.5568 - accuracy: 0.7296 - val_loss: 0.5665 - val_accuracy: 0.7236\n",
      "Epoch 23/100\n",
      "215/215 [==============================] - 2s 8ms/step - loss: 0.5570 - accuracy: 0.7302 - val_loss: 0.5672 - val_accuracy: 0.7268\n",
      "Epoch 24/100\n",
      "215/215 [==============================] - 2s 8ms/step - loss: 0.5559 - accuracy: 0.7320 - val_loss: 0.5642 - val_accuracy: 0.7273\n",
      "Epoch 25/100\n",
      "215/215 [==============================] - 2s 10ms/step - loss: 0.5557 - accuracy: 0.7324 - val_loss: 0.5700 - val_accuracy: 0.7252\n",
      "Epoch 26/100\n",
      "212/215 [============================>.] - ETA: 0s - loss: 0.5561 - accuracy: 0.7315  Saved model weights at epoch 25.\n",
      "215/215 [==============================] - 3s 12ms/step - loss: 0.5558 - accuracy: 0.7315 - val_loss: 0.5674 - val_accuracy: 0.7233\n",
      "Epoch 27/100\n",
      "215/215 [==============================] - 2s 8ms/step - loss: 0.5549 - accuracy: 0.7320 - val_loss: 0.5692 - val_accuracy: 0.7242\n",
      "Epoch 28/100\n",
      "215/215 [==============================] - 2s 8ms/step - loss: 0.5554 - accuracy: 0.7315 - val_loss: 0.5654 - val_accuracy: 0.7254\n",
      "Epoch 29/100\n",
      "215/215 [==============================] - 2s 8ms/step - loss: 0.5551 - accuracy: 0.7317 - val_loss: 0.5686 - val_accuracy: 0.7268\n",
      "Epoch 30/100\n",
      "215/215 [==============================] - 2s 8ms/step - loss: 0.5549 - accuracy: 0.7334 - val_loss: 0.5646 - val_accuracy: 0.7278\n",
      "Epoch 31/100\n",
      "214/215 [============================>.] - ETA: 0s - loss: 0.5534 - accuracy: 0.7335  Saved model weights at epoch 30.\n",
      "215/215 [==============================] - 2s 9ms/step - loss: 0.5536 - accuracy: 0.7332 - val_loss: 0.5672 - val_accuracy: 0.7274\n",
      "Epoch 32/100\n",
      "215/215 [==============================] - 2s 9ms/step - loss: 0.5539 - accuracy: 0.7328 - val_loss: 0.5657 - val_accuracy: 0.7254\n",
      "Epoch 33/100\n",
      "215/215 [==============================] - 2s 8ms/step - loss: 0.5533 - accuracy: 0.7324 - val_loss: 0.5682 - val_accuracy: 0.7258\n",
      "Epoch 34/100\n",
      "215/215 [==============================] - 2s 9ms/step - loss: 0.5542 - accuracy: 0.7319 - val_loss: 0.5659 - val_accuracy: 0.7245\n",
      "Epoch 35/100\n",
      "215/215 [==============================] - 3s 13ms/step - loss: 0.5535 - accuracy: 0.7339 - val_loss: 0.5681 - val_accuracy: 0.7271\n",
      "Epoch 36/100\n",
      "209/215 [============================>.] - ETA: 0s - loss: 0.5541 - accuracy: 0.7319  Saved model weights at epoch 35.\n",
      "215/215 [==============================] - 3s 12ms/step - loss: 0.5537 - accuracy: 0.7326 - val_loss: 0.5740 - val_accuracy: 0.7235\n",
      "Epoch 37/100\n",
      "215/215 [==============================] - 2s 8ms/step - loss: 0.5537 - accuracy: 0.7333 - val_loss: 0.5645 - val_accuracy: 0.7264\n",
      "Epoch 38/100\n",
      "215/215 [==============================] - 3s 12ms/step - loss: 0.5528 - accuracy: 0.7329 - val_loss: 0.5659 - val_accuracy: 0.7264\n",
      "Epoch 39/100\n",
      "215/215 [==============================] - 3s 15ms/step - loss: 0.5526 - accuracy: 0.7337 - val_loss: 0.5648 - val_accuracy: 0.7252\n",
      "Epoch 40/100\n",
      "215/215 [==============================] - 2s 12ms/step - loss: 0.5509 - accuracy: 0.7338 - val_loss: 0.5670 - val_accuracy: 0.7246\n",
      "Epoch 41/100\n",
      "215/215 [==============================] - ETA: 0s - loss: 0.5519 - accuracy: 0.7340  Saved model weights at epoch 40.\n",
      "215/215 [==============================] - 3s 14ms/step - loss: 0.5519 - accuracy: 0.7340 - val_loss: 0.5662 - val_accuracy: 0.7265\n",
      "Epoch 42/100\n",
      "215/215 [==============================] - 3s 13ms/step - loss: 0.5519 - accuracy: 0.7332 - val_loss: 0.5643 - val_accuracy: 0.7265\n",
      "Epoch 43/100\n",
      "215/215 [==============================] - 3s 14ms/step - loss: 0.5509 - accuracy: 0.7348 - val_loss: 0.5659 - val_accuracy: 0.7241\n",
      "Epoch 44/100\n",
      "215/215 [==============================] - 2s 10ms/step - loss: 0.5509 - accuracy: 0.7340 - val_loss: 0.5648 - val_accuracy: 0.7281\n",
      "Epoch 45/100\n",
      "215/215 [==============================] - 2s 8ms/step - loss: 0.5507 - accuracy: 0.7344 - val_loss: 0.5637 - val_accuracy: 0.7277\n",
      "Epoch 46/100\n",
      "214/215 [============================>.] - ETA: 0s - loss: 0.5506 - accuracy: 0.7353  Saved model weights at epoch 45.\n",
      "215/215 [==============================] - 2s 10ms/step - loss: 0.5506 - accuracy: 0.7353 - val_loss: 0.5670 - val_accuracy: 0.7268\n",
      "Epoch 47/100\n",
      "215/215 [==============================] - 2s 9ms/step - loss: 0.5506 - accuracy: 0.7348 - val_loss: 0.5692 - val_accuracy: 0.7280\n",
      "Epoch 48/100\n",
      "215/215 [==============================] - 2s 9ms/step - loss: 0.5511 - accuracy: 0.7345 - val_loss: 0.5683 - val_accuracy: 0.7245\n",
      "Epoch 49/100\n",
      "215/215 [==============================] - 2s 9ms/step - loss: 0.5505 - accuracy: 0.7348 - val_loss: 0.5636 - val_accuracy: 0.7267\n",
      "Epoch 50/100\n",
      "215/215 [==============================] - 2s 9ms/step - loss: 0.5505 - accuracy: 0.7347 - val_loss: 0.5628 - val_accuracy: 0.7293\n",
      "Epoch 51/100\n",
      "210/215 [============================>.] - ETA: 0s - loss: 0.5500 - accuracy: 0.7351  Saved model weights at epoch 50.\n",
      "215/215 [==============================] - 2s 11ms/step - loss: 0.5498 - accuracy: 0.7350 - val_loss: 0.5643 - val_accuracy: 0.7264\n",
      "Epoch 52/100\n",
      "215/215 [==============================] - 2s 9ms/step - loss: 0.5495 - accuracy: 0.7347 - val_loss: 0.5652 - val_accuracy: 0.7258\n",
      "Epoch 53/100\n",
      "215/215 [==============================] - 2s 9ms/step - loss: 0.5493 - accuracy: 0.7359 - val_loss: 0.5658 - val_accuracy: 0.7236\n",
      "Epoch 54/100\n",
      "215/215 [==============================] - 2s 9ms/step - loss: 0.5493 - accuracy: 0.7351 - val_loss: 0.5667 - val_accuracy: 0.7276\n",
      "Epoch 55/100\n",
      "215/215 [==============================] - 2s 9ms/step - loss: 0.5494 - accuracy: 0.7347 - val_loss: 0.5633 - val_accuracy: 0.7258\n",
      "Epoch 56/100\n",
      "214/215 [============================>.] - ETA: 0s - loss: 0.5487 - accuracy: 0.7349  Saved model weights at epoch 55.\n",
      "215/215 [==============================] - 2s 10ms/step - loss: 0.5490 - accuracy: 0.7348 - val_loss: 0.5652 - val_accuracy: 0.7248\n",
      "Epoch 57/100\n",
      "215/215 [==============================] - 2s 9ms/step - loss: 0.5488 - accuracy: 0.7345 - val_loss: 0.5642 - val_accuracy: 0.7259\n",
      "Epoch 58/100\n",
      "215/215 [==============================] - 2s 9ms/step - loss: 0.5492 - accuracy: 0.7350 - val_loss: 0.5651 - val_accuracy: 0.7281\n",
      "Epoch 59/100\n",
      "215/215 [==============================] - 2s 8ms/step - loss: 0.5487 - accuracy: 0.7360 - val_loss: 0.5632 - val_accuracy: 0.7274\n",
      "Epoch 60/100\n",
      "215/215 [==============================] - 2s 8ms/step - loss: 0.5478 - accuracy: 0.7354 - val_loss: 0.5676 - val_accuracy: 0.7243\n",
      "Epoch 61/100\n",
      "210/215 [============================>.] - ETA: 0s - loss: 0.5473 - accuracy: 0.7359  Saved model weights at epoch 60.\n",
      "215/215 [==============================] - 2s 10ms/step - loss: 0.5477 - accuracy: 0.7356 - val_loss: 0.5654 - val_accuracy: 0.7249\n",
      "Epoch 62/100\n",
      "215/215 [==============================] - 2s 8ms/step - loss: 0.5475 - accuracy: 0.7360 - val_loss: 0.5682 - val_accuracy: 0.7217\n",
      "Epoch 63/100\n",
      "215/215 [==============================] - 2s 8ms/step - loss: 0.5487 - accuracy: 0.7358 - val_loss: 0.5654 - val_accuracy: 0.7236\n",
      "Epoch 64/100\n",
      "215/215 [==============================] - 2s 8ms/step - loss: 0.5480 - accuracy: 0.7354 - val_loss: 0.5657 - val_accuracy: 0.7226\n",
      "Epoch 65/100\n",
      "215/215 [==============================] - 2s 9ms/step - loss: 0.5484 - accuracy: 0.7360 - val_loss: 0.5646 - val_accuracy: 0.7233\n",
      "Epoch 66/100\n",
      "208/215 [============================>.] - ETA: 0s - loss: 0.5475 - accuracy: 0.7362  Saved model weights at epoch 65.\n",
      "215/215 [==============================] - 2s 9ms/step - loss: 0.5474 - accuracy: 0.7362 - val_loss: 0.5656 - val_accuracy: 0.7241\n",
      "Epoch 67/100\n",
      "215/215 [==============================] - 2s 9ms/step - loss: 0.5469 - accuracy: 0.7361 - val_loss: 0.5649 - val_accuracy: 0.7265\n",
      "Epoch 68/100\n",
      "215/215 [==============================] - 2s 9ms/step - loss: 0.5467 - accuracy: 0.7363 - val_loss: 0.5672 - val_accuracy: 0.7273\n",
      "Epoch 69/100\n",
      "215/215 [==============================] - 2s 9ms/step - loss: 0.5472 - accuracy: 0.7361 - val_loss: 0.5685 - val_accuracy: 0.7258\n",
      "Epoch 70/100\n",
      "215/215 [==============================] - 2s 9ms/step - loss: 0.5471 - accuracy: 0.7357 - val_loss: 0.5665 - val_accuracy: 0.7267\n",
      "Epoch 71/100\n",
      "209/215 [============================>.] - ETA: 0s - loss: 0.5470 - accuracy: 0.7356  Saved model weights at epoch 70.\n",
      "215/215 [==============================] - 2s 10ms/step - loss: 0.5468 - accuracy: 0.7362 - val_loss: 0.5654 - val_accuracy: 0.7265\n",
      "Epoch 72/100\n",
      "215/215 [==============================] - 2s 9ms/step - loss: 0.5461 - accuracy: 0.7375 - val_loss: 0.5629 - val_accuracy: 0.7284\n",
      "Epoch 73/100\n",
      "215/215 [==============================] - 2s 8ms/step - loss: 0.5469 - accuracy: 0.7360 - val_loss: 0.5654 - val_accuracy: 0.7226\n",
      "Epoch 74/100\n",
      "215/215 [==============================] - 2s 11ms/step - loss: 0.5469 - accuracy: 0.7358 - val_loss: 0.5669 - val_accuracy: 0.7241\n",
      "Epoch 75/100\n",
      "215/215 [==============================] - 2s 9ms/step - loss: 0.5460 - accuracy: 0.7372 - val_loss: 0.5662 - val_accuracy: 0.7242\n",
      "Epoch 76/100\n",
      "211/215 [============================>.] - ETA: 0s - loss: 0.5453 - accuracy: 0.7359  Saved model weights at epoch 75.\n",
      "215/215 [==============================] - 2s 9ms/step - loss: 0.5453 - accuracy: 0.7360 - val_loss: 0.5657 - val_accuracy: 0.7226\n",
      "Epoch 77/100\n",
      "215/215 [==============================] - 2s 9ms/step - loss: 0.5467 - accuracy: 0.7369 - val_loss: 0.5630 - val_accuracy: 0.7248\n",
      "Epoch 78/100\n",
      "215/215 [==============================] - 2s 9ms/step - loss: 0.5462 - accuracy: 0.7371 - val_loss: 0.5644 - val_accuracy: 0.7259\n",
      "Epoch 79/100\n",
      "215/215 [==============================] - 2s 9ms/step - loss: 0.5457 - accuracy: 0.7368 - val_loss: 0.5692 - val_accuracy: 0.7226\n",
      "Epoch 80/100\n",
      "215/215 [==============================] - 2s 9ms/step - loss: 0.5463 - accuracy: 0.7371 - val_loss: 0.5670 - val_accuracy: 0.7239\n",
      "Epoch 81/100\n",
      "213/215 [============================>.] - ETA: 0s - loss: 0.5450 - accuracy: 0.7372  Saved model weights at epoch 80.\n",
      "215/215 [==============================] - 2s 10ms/step - loss: 0.5446 - accuracy: 0.7374 - val_loss: 0.5667 - val_accuracy: 0.7224\n",
      "Epoch 82/100\n",
      "215/215 [==============================] - 2s 9ms/step - loss: 0.5452 - accuracy: 0.7366 - val_loss: 0.5665 - val_accuracy: 0.7242\n",
      "Epoch 83/100\n",
      "215/215 [==============================] - 2s 9ms/step - loss: 0.5454 - accuracy: 0.7365 - val_loss: 0.5699 - val_accuracy: 0.7239\n",
      "Epoch 84/100\n",
      "215/215 [==============================] - 2s 9ms/step - loss: 0.5449 - accuracy: 0.7374 - val_loss: 0.5688 - val_accuracy: 0.7226\n",
      "Epoch 85/100\n",
      "215/215 [==============================] - 2s 9ms/step - loss: 0.5444 - accuracy: 0.7370 - val_loss: 0.5652 - val_accuracy: 0.7243\n",
      "Epoch 86/100\n",
      "215/215 [==============================] - ETA: 0s - loss: 0.5452 - accuracy: 0.7370  Saved model weights at epoch 85.\n",
      "215/215 [==============================] - 2s 9ms/step - loss: 0.5452 - accuracy: 0.7370 - val_loss: 0.5680 - val_accuracy: 0.7245\n",
      "Epoch 87/100\n",
      "215/215 [==============================] - 2s 9ms/step - loss: 0.5442 - accuracy: 0.7366 - val_loss: 0.5692 - val_accuracy: 0.7229\n",
      "Epoch 88/100\n",
      "215/215 [==============================] - 2s 9ms/step - loss: 0.5449 - accuracy: 0.7372 - val_loss: 0.5653 - val_accuracy: 0.7258\n",
      "Epoch 89/100\n",
      "215/215 [==============================] - 2s 8ms/step - loss: 0.5446 - accuracy: 0.7373 - val_loss: 0.5717 - val_accuracy: 0.7217\n",
      "Epoch 90/100\n",
      "215/215 [==============================] - 2s 9ms/step - loss: 0.5458 - accuracy: 0.7373 - val_loss: 0.5721 - val_accuracy: 0.7257\n",
      "Epoch 91/100\n",
      "210/215 [============================>.] - ETA: 0s - loss: 0.5441 - accuracy: 0.7368  Saved model weights at epoch 90.\n",
      "215/215 [==============================] - 2s 10ms/step - loss: 0.5442 - accuracy: 0.7367 - val_loss: 0.5702 - val_accuracy: 0.7241\n",
      "Epoch 92/100\n",
      "215/215 [==============================] - 2s 9ms/step - loss: 0.5450 - accuracy: 0.7375 - val_loss: 0.5653 - val_accuracy: 0.7258\n",
      "Epoch 93/100\n",
      "215/215 [==============================] - 2s 9ms/step - loss: 0.5444 - accuracy: 0.7381 - val_loss: 0.5671 - val_accuracy: 0.7249\n",
      "Epoch 94/100\n",
      "215/215 [==============================] - 2s 9ms/step - loss: 0.5437 - accuracy: 0.7393 - val_loss: 0.5667 - val_accuracy: 0.7264\n",
      "Epoch 95/100\n",
      "215/215 [==============================] - 2s 9ms/step - loss: 0.5439 - accuracy: 0.7384 - val_loss: 0.5669 - val_accuracy: 0.7252\n",
      "Epoch 96/100\n",
      "213/215 [============================>.] - ETA: 0s - loss: 0.5444 - accuracy: 0.7371  Saved model weights at epoch 95.\n",
      "215/215 [==============================] - 2s 10ms/step - loss: 0.5445 - accuracy: 0.7370 - val_loss: 0.5681 - val_accuracy: 0.7262\n",
      "Epoch 97/100\n",
      "215/215 [==============================] - 2s 9ms/step - loss: 0.5442 - accuracy: 0.7378 - val_loss: 0.5680 - val_accuracy: 0.7243\n",
      "Epoch 98/100\n",
      "215/215 [==============================] - 2s 9ms/step - loss: 0.5441 - accuracy: 0.7383 - val_loss: 0.5688 - val_accuracy: 0.7236\n",
      "Epoch 99/100\n",
      "215/215 [==============================] - 2s 9ms/step - loss: 0.5440 - accuracy: 0.7376 - val_loss: 0.5672 - val_accuracy: 0.7239\n",
      "Epoch 100/100\n",
      "215/215 [==============================] - 2s 9ms/step - loss: 0.5425 - accuracy: 0.7385 - val_loss: 0.5668 - val_accuracy: 0.7255\n"
     ]
    }
   ],
   "source": [
    "# Train the model\n",
    "history = nn.fit(X_train_scaled,Y_train,epochs=100,validation_data=(X_test_scaled, Y_test),batch_size=128, callbacks=[SaveWeightsCallback()])"
   ],
   "metadata": {
    "collapsed": false
   }
  },
  {
   "cell_type": "code",
   "execution_count": 281,
   "outputs": [
    {
     "name": "stdout",
     "output_type": "stream",
     "text": [
      "215/215 - 1s - loss: 0.5668 - accuracy: 0.7255 - 1s/epoch - 6ms/step\n",
      "Loss: 0.566843569278717, Accuracy: 0.7255101799964905\n"
     ]
    }
   ],
   "source": [
    "# Evaluate the model using the test data\n",
    "model_loss, model_accuracy = nn.evaluate(X_test_scaled,Y_test,verbose=2)\n",
    "print(f\"Loss: {model_loss}, Accuracy: {model_accuracy}\")"
   ],
   "metadata": {
    "collapsed": false
   }
  },
  {
   "cell_type": "code",
   "execution_count": null,
   "outputs": [],
   "source": [],
   "metadata": {
    "collapsed": false
   }
  }
 ],
 "metadata": {
  "kernelspec": {
   "display_name": "Python 3",
   "language": "python",
   "name": "python3"
  },
  "language_info": {
   "codemirror_mode": {
    "name": "ipython",
    "version": 2
   },
   "file_extension": ".py",
   "mimetype": "text/x-python",
   "name": "python",
   "nbconvert_exporter": "python",
   "pygments_lexer": "ipython2",
   "version": "2.7.6"
  }
 },
 "nbformat": 4,
 "nbformat_minor": 0
}
